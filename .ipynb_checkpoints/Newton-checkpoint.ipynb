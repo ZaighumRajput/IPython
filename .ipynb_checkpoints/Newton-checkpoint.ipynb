{
 "metadata": {
  "name": ""
 },
 "nbformat": 3,
 "nbformat_minor": 0,
 "worksheets": [
  {
   "cells": [
    {
     "cell_type": "markdown",
     "metadata": {},
     "source": [
      "A function that finds the root of a nonlinear function $f(x)$ \n",
      "It uses Newton's Method: $$ x_{k+1}  = x_k - \\frac{f(x_k)}{f^`(x_k)}$$ and requires and initial guess $x_0$"
     ]
    },
    {
     "cell_type": "code",
     "collapsed": false,
     "input": [
      "def solve(fvals, x0, debug = False):\n",
      "    iterator = 0\n",
      "    deltaK = x0\n",
      "    deltaK_plus1 = 0\n",
      "    while(abs(fvals(deltaK)[0]) > 1e-14):\n",
      "        \n",
      "        \n",
      "        deltaK_plus1 = deltaK - fvals(deltaK)[0]/fvals(deltaK)[1]\n",
      "        iterator += 1    \n",
      "        if __debug__:\n",
      "            print \"After %i iterations, x is %22.15e   \" % (iterator, deltaK_plus1)\n",
      "        \n",
      "        \n",
      "        deltaK = deltaK_plus1\n",
      "        \n",
      "        \n",
      "        if(iterator > 20):\n",
      "            break\n",
      "        \n",
      "    return  deltaK, iterator"
     ],
     "language": "python",
     "metadata": {},
     "outputs": []
    },
    {
     "cell_type": "heading",
     "level": 4,
     "metadata": {},
     "source": [
      "Test Cases:"
     ]
    },
    {
     "cell_type": "code",
     "collapsed": false,
     "input": [
      "def fvals_sqrt(x):\n",
      "    \"\"\"\n",
      "    Return f(x) and f'(x) for applying Newton to find a square root.\n",
      "    \"\"\"\n",
      "    f = x**2 - 4.\n",
      "    fp = 2.*x\n",
      "    return f, fp\n",
      "\n",
      "def test1(debug_solve=True):\n",
      "    \"\"\"\n",
      "    Test Newton iteration for the square root with different initial\n",
      "    conditions.\n",
      "    \"\"\"\n",
      "    from numpy import sqrt\n",
      "    for x0 in [1., 2., 100.]:\n",
      "        print \" \"  # blank line\n",
      "        x,iters = solve(fvals_sqrt, x0, debug=debug_solve)\n",
      "        print \"solve returns x = %22.15e after %i iterations \" % (x,iters)\n",
      "        fx,fpx = fvals_sqrt(x)\n",
      "        print \"the value of f(x) is %22.15e\" % fx\n",
      "        assert abs(x-2.) < 1e-14, \"*** Unexpected result: x = %22.15e\"  % x"
     ],
     "language": "python",
     "metadata": {},
     "outputs": []
    },
    {
     "cell_type": "code",
     "collapsed": false,
     "input": [
      "test1()\n"
     ],
     "language": "python",
     "metadata": {},
     "outputs": []
    },
    {
     "cell_type": "code",
     "collapsed": false,
     "input": [
      "a[1]"
     ],
     "language": "python",
     "metadata": {},
     "outputs": []
    },
    {
     "cell_type": "code",
     "collapsed": false,
     "input": [],
     "language": "python",
     "metadata": {},
     "outputs": []
    }
   ],
   "metadata": {}
  }
 ]
}