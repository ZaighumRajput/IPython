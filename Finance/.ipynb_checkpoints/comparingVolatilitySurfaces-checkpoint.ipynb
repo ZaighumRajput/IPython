{
 "metadata": {
  "name": ""
 },
 "nbformat": 3,
 "nbformat_minor": 0,
 "worksheets": [
  {
   "cells": [
    {
     "cell_type": "heading",
     "level": 1,
     "metadata": {},
     "source": [
      "Comparing Volatility Surfaces. "
     ]
    },
    {
     "cell_type": "markdown",
     "metadata": {},
     "source": [
      "One from the market the other as implied from our model"
     ]
    },
    {
     "cell_type": "code",
     "collapsed": false,
     "input": [
      "import numpy as np\n",
      "import pandas as pd\n",
      "import os\n",
      "import matplotlib as plt"
     ],
     "language": "python",
     "metadata": {},
     "outputs": [],
     "prompt_number": 48
    },
    {
     "cell_type": "code",
     "collapsed": false,
     "input": [
      "os.chdir(\"C:\\MJD_Cali\")"
     ],
     "language": "python",
     "metadata": {},
     "outputs": [],
     "prompt_number": 49
    },
    {
     "cell_type": "code",
     "collapsed": false,
     "input": [
      "volatilitySurfaceAEXMarket = pd.read_csv(\"C:\\MJD_Cali\\.TOPX_market.csv\", usecols=[8,14,17], skipfooter=1, skiprows=1, header=None)\n",
      "volatilitySurfaceAEXMarket.columns = ['Maturity','Moneyness','Volatility']\n",
      "AEXMarket = volatilitySurfaceAEXMarket.groupby(['Maturity','Moneyness'])\n",
      "AEXMarket = AEXMarket.sum()"
     ],
     "language": "python",
     "metadata": {},
     "outputs": [],
     "prompt_number": 50
    },
    {
     "cell_type": "code",
     "collapsed": false,
     "input": [
      "volatilitySurfaceAEXMarket = pd.read_csv(\"C:\\MJD_Cali\\.TOPX_model.csv\", usecols=[8,14,17], skipfooter=1, skiprows=1, header=None)\n",
      "volatilitySurfaceAEXMarket.columns = ['Maturity','Moneyness','Volatility']\n",
      "AEXModel = volatilitySurfaceAEXMarket.groupby(['Maturity','Moneyness'])\n",
      "AEXModel = AEXModel.sum()"
     ],
     "language": "python",
     "metadata": {},
     "outputs": [],
     "prompt_number": 51
    },
    {
     "cell_type": "code",
     "collapsed": false,
     "input": [
      "((AEXModel - AEXMarket)/AEXMarket)*100"
     ],
     "language": "python",
     "metadata": {},
     "outputs": [
      {
       "html": [
        "<div style=\"max-height:1000px;max-width:1500px;overflow:auto;\">\n",
        "<table border=\"1\" class=\"dataframe\">\n",
        "  <thead>\n",
        "    <tr style=\"text-align: right;\">\n",
        "      <th></th>\n",
        "      <th></th>\n",
        "      <th>Volatility</th>\n",
        "    </tr>\n",
        "    <tr>\n",
        "      <th>Maturity</th>\n",
        "      <th>Moneyness</th>\n",
        "      <th></th>\n",
        "    </tr>\n",
        "  </thead>\n",
        "  <tbody>\n",
        "    <tr>\n",
        "      <th rowspan=\"19\" valign=\"top\">365</th>\n",
        "      <th>0.833333</th>\n",
        "      <td>-1.849293</td>\n",
        "    </tr>\n",
        "    <tr>\n",
        "      <th>0.869565</th>\n",
        "      <td>-0.339979</td>\n",
        "    </tr>\n",
        "    <tr>\n",
        "      <th>0.888889</th>\n",
        "      <td> 0.052807</td>\n",
        "    </tr>\n",
        "    <tr>\n",
        "      <th>0.909091</th>\n",
        "      <td> 0.402773</td>\n",
        "    </tr>\n",
        "    <tr>\n",
        "      <th>0.925926</th>\n",
        "      <td> 0.601563</td>\n",
        "    </tr>\n",
        "    <tr>\n",
        "      <th>0.943396</th>\n",
        "      <td> 0.730678</td>\n",
        "    </tr>\n",
        "    <tr>\n",
        "      <th>0.952381</th>\n",
        "      <td> 0.742345</td>\n",
        "    </tr>\n",
        "    <tr>\n",
        "      <th>0.961538</th>\n",
        "      <td> 0.675530</td>\n",
        "    </tr>\n",
        "    <tr>\n",
        "      <th>0.980392</th>\n",
        "      <td> 0.334916</td>\n",
        "    </tr>\n",
        "    <tr>\n",
        "      <th>1.000000</th>\n",
        "      <td> 0.045807</td>\n",
        "    </tr>\n",
        "    <tr>\n",
        "      <th>1.020408</th>\n",
        "      <td>-0.245897</td>\n",
        "    </tr>\n",
        "    <tr>\n",
        "      <th>1.041667</th>\n",
        "      <td>-0.406482</td>\n",
        "    </tr>\n",
        "    <tr>\n",
        "      <th>1.052632</th>\n",
        "      <td>-0.439682</td>\n",
        "    </tr>\n",
        "    <tr>\n",
        "      <th>1.063830</th>\n",
        "      <td>-0.471585</td>\n",
        "    </tr>\n",
        "    <tr>\n",
        "      <th>1.086957</th>\n",
        "      <td>-0.378957</td>\n",
        "    </tr>\n",
        "    <tr>\n",
        "      <th>1.111111</th>\n",
        "      <td>-0.163826</td>\n",
        "    </tr>\n",
        "    <tr>\n",
        "      <th>1.142857</th>\n",
        "      <td> 0.248542</td>\n",
        "    </tr>\n",
        "    <tr>\n",
        "      <th>1.176471</th>\n",
        "      <td> 0.503981</td>\n",
        "    </tr>\n",
        "    <tr>\n",
        "      <th>1.250000</th>\n",
        "      <td>-0.131953</td>\n",
        "    </tr>\n",
        "  </tbody>\n",
        "</table>\n",
        "<p>19 rows \u00d7 1 columns</p>\n",
        "</div>"
       ],
       "metadata": {},
       "output_type": "pyout",
       "prompt_number": 52,
       "text": [
        "                    Volatility\n",
        "Maturity Moneyness            \n",
        "365      0.833333    -1.849293\n",
        "         0.869565    -0.339979\n",
        "         0.888889     0.052807\n",
        "         0.909091     0.402773\n",
        "         0.925926     0.601563\n",
        "         0.943396     0.730678\n",
        "         0.952381     0.742345\n",
        "         0.961538     0.675530\n",
        "         0.980392     0.334916\n",
        "         1.000000     0.045807\n",
        "         1.020408    -0.245897\n",
        "         1.041667    -0.406482\n",
        "         1.052632    -0.439682\n",
        "         1.063830    -0.471585\n",
        "         1.086957    -0.378957\n",
        "         1.111111    -0.163826\n",
        "         1.142857     0.248542\n",
        "         1.176471     0.503981\n",
        "         1.250000    -0.131953\n",
        "\n",
        "[19 rows x 1 columns]"
       ]
      }
     ],
     "prompt_number": 52
    }
   ],
   "metadata": {}
  }
 ]
}