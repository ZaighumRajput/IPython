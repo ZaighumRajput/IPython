{
 "metadata": {
  "name": ""
 },
 "nbformat": 3,
 "nbformat_minor": 0,
 "worksheets": [
  {
   "cells": [
    {
     "cell_type": "code",
     "collapsed": false,
     "input": [
      "import numpy as np\n",
      "import pandas as pd\n",
      "import os\n",
      "import matplotlib as plt\n",
      "import pyuvvis as pyu"
     ],
     "language": "python",
     "metadata": {},
     "outputs": [],
     "prompt_number": 269
    },
    {
     "cell_type": "code",
     "collapsed": false,
     "input": [
      "index = '.AEX'\n",
      "volatilitySurfaceMarket = pd.read_csv(\"C:\\\\MJD_Cali\\\\\" + index + \"_market.csv\", usecols=[8,14,17], skipfooter=1, skiprows=1, header=None)\n",
      "volatilitySurfaceMarket.columns = ['Maturity','Moneyness','Volatility']\n",
      "\n",
      "volatilitySurfaceModel = pd.read_csv(\"C:\\\\MJD_Cali\\\\\" + index + \"_model.csv\", usecols=[8,14,17], skipfooter=1, skiprows=1, header=None)\n",
      "volatilitySurfaceModel.columns = ['Maturity','Moneyness','Volatility']\n",
      "\n",
      "modelParameters = pd.read_csv(\"C:\\\\MJD_Cali\\\\\" + index + \"_parameters.csv\",header=None, index_col=0)\n",
      "modelParameters.columns =['Value']\n",
      "modelParameters.index.name ='Parameter'\n",
      "\n",
      "modelParameters"
     ],
     "language": "python",
     "metadata": {},
     "outputs": [
      {
       "html": [
        "<div style=\"max-height:1000px;max-width:1500px;overflow:auto;\">\n",
        "<table border=\"1\" class=\"dataframe\">\n",
        "  <thead>\n",
        "    <tr style=\"text-align: right;\">\n",
        "      <th></th>\n",
        "      <th>Value</th>\n",
        "    </tr>\n",
        "    <tr>\n",
        "      <th>Parameter</th>\n",
        "      <th></th>\n",
        "    </tr>\n",
        "  </thead>\n",
        "  <tbody>\n",
        "    <tr>\n",
        "      <th>jumpIntensity</th>\n",
        "      <td> 1.000000</td>\n",
        "    </tr>\n",
        "    <tr>\n",
        "      <th>jumpMean</th>\n",
        "      <td>-0.078787</td>\n",
        "    </tr>\n",
        "    <tr>\n",
        "      <th>jumpVol</th>\n",
        "      <td> 0.071311</td>\n",
        "    </tr>\n",
        "    <tr>\n",
        "      <th>vol</th>\n",
        "      <td> 0.118646</td>\n",
        "    </tr>\n",
        "  </tbody>\n",
        "</table>\n",
        "<p>4 rows \u00d7 1 columns</p>\n",
        "</div>"
       ],
       "metadata": {},
       "output_type": "pyout",
       "prompt_number": 270,
       "text": [
        "                  Value\n",
        "Parameter              \n",
        "jumpIntensity  1.000000\n",
        "jumpMean      -0.078787\n",
        "jumpVol        0.071311\n",
        "vol            0.118646\n",
        "\n",
        "[4 rows x 1 columns]"
       ]
      }
     ],
     "prompt_number": 270
    },
    {
     "cell_type": "code",
     "collapsed": false,
     "input": [
      "volatilitySurfaceMarket[volatilitySurfaceMarket.Maturity == 365].plot(y = 'Volatility', x = 'Moneyness');\n",
      "volatilitySurfaceModel[volatilitySurfaceModel.Maturity == 365].plot(y = 'Volatility', x = 'Moneyness');"
     ],
     "language": "python",
     "metadata": {},
     "outputs": [
      {
       "metadata": {},
       "output_type": "display_data",
       "png": "[encoded data removed]",
       "text": [
        "<matplotlib.figure.Figure at 0x18ef9870>"
       ]
      }
     ],
     "prompt_number": 271
    },
    {
     "cell_type": "code",
     "collapsed": false,
     "input": [
      "#Volatility Surface\n",
      "import matplotlib.pyplot as plt\n",
      "from mpl_toolkits.mplot3d.axes3d import Axes3D\n",
      "\n",
      "MaturityPoints = [1, 2, 3,5,7,10]\n",
      "MaturityPoints = [x * 365 for x in MaturityPoints]\n",
      "MoneynessPoints = [1.25, 1.176470588, 1.111111111, 1.052631579,1.0 ,0.952380952]#,0.909090909,0.869565217,0.833333333]\n",
      "\n",
      "#[mo,ma] = meshgrid(volatilitySurfaceMarket.Maturity.unique(), volatilitySurfaceMarket.Moneyness.unique())\n",
      "[mo,ma] = meshgrid(MaturityPoints, MoneynessPoints)\n",
      "#print volatilitySurfaceMarket[(volatilitySurfaceMarket.Maturity == 365) & (volatilitySurfaceMarket.Moneyness[1:1.25])]\n",
      "\n",
      "\n",
      "\n",
      "z = np.zeros_like(mo, float64)\n",
      "#print volatilitySurfaceMarket.query('Maturity == 365 & Moneyness == 1.25').Volatility\n",
      "for j in range(0,len(MaturityPoints)):\n",
      "    for i in range(0,len(MoneynessPoints)):\n",
      "        z[i,j] =  volatilitySurfaceMarket.query('Maturity == MaturityPoints[j] & Moneyness == MoneynessPoints[i]').Volatility.values[0]\n",
      "print z\n",
      "figu = plt.figure(figsize =(10,6))\n",
      "aks = Axes3D(figu)\n",
      "aks.plot_wireframe(ma, mo, z, color='b')\n",
      "#aks.plot_wireframe(np.linspace(1,2,100),np.linspace(1,2,100),np.linspace(1,3,100), color='r' )"
     ],
     "language": "python",
     "metadata": {},
     "outputs": [
      {
       "ename": "IndexError",
       "evalue": "index out of bounds",
       "output_type": "pyerr",
       "traceback": [
        "\u001b[1;31m---------------------------------------------------------------------------\u001b[0m\n\u001b[1;31mIndexError\u001b[0m                                Traceback (most recent call last)",
        "\u001b[1;32m<ipython-input-272-2a35a66a70bd>\u001b[0m in \u001b[0;36m<module>\u001b[1;34m()\u001b[0m\n\u001b[0;32m     17\u001b[0m \u001b[1;32mfor\u001b[0m \u001b[0mj\u001b[0m \u001b[1;32min\u001b[0m \u001b[0mrange\u001b[0m\u001b[1;33m(\u001b[0m\u001b[1;36m0\u001b[0m\u001b[1;33m,\u001b[0m\u001b[0mlen\u001b[0m\u001b[1;33m(\u001b[0m\u001b[0mMaturityPoints\u001b[0m\u001b[1;33m)\u001b[0m\u001b[1;33m)\u001b[0m\u001b[1;33m:\u001b[0m\u001b[1;33m\u001b[0m\u001b[0m\n\u001b[0;32m     18\u001b[0m     \u001b[1;32mfor\u001b[0m \u001b[0mi\u001b[0m \u001b[1;32min\u001b[0m \u001b[0mrange\u001b[0m\u001b[1;33m(\u001b[0m\u001b[1;36m0\u001b[0m\u001b[1;33m,\u001b[0m\u001b[0mlen\u001b[0m\u001b[1;33m(\u001b[0m\u001b[0mMoneynessPoints\u001b[0m\u001b[1;33m)\u001b[0m\u001b[1;33m)\u001b[0m\u001b[1;33m:\u001b[0m\u001b[1;33m\u001b[0m\u001b[0m\n\u001b[1;32m---> 19\u001b[1;33m         \u001b[0mz\u001b[0m\u001b[1;33m[\u001b[0m\u001b[0mi\u001b[0m\u001b[1;33m,\u001b[0m\u001b[0mj\u001b[0m\u001b[1;33m]\u001b[0m \u001b[1;33m=\u001b[0m  \u001b[0mvolatilitySurfaceMarket\u001b[0m\u001b[1;33m.\u001b[0m\u001b[0mquery\u001b[0m\u001b[1;33m(\u001b[0m\u001b[1;34m'Maturity == MaturityPoints[j] & Moneyness == MoneynessPoints[i]'\u001b[0m\u001b[1;33m)\u001b[0m\u001b[1;33m.\u001b[0m\u001b[0mVolatility\u001b[0m\u001b[1;33m.\u001b[0m\u001b[0mvalues\u001b[0m\u001b[1;33m[\u001b[0m\u001b[1;36m0\u001b[0m\u001b[1;33m]\u001b[0m\u001b[1;33m\u001b[0m\u001b[0m\n\u001b[0m\u001b[0;32m     20\u001b[0m \u001b[1;32mprint\u001b[0m \u001b[0mz\u001b[0m\u001b[1;33m\u001b[0m\u001b[0m\n\u001b[0;32m     21\u001b[0m \u001b[0mfigu\u001b[0m \u001b[1;33m=\u001b[0m \u001b[0mplt\u001b[0m\u001b[1;33m.\u001b[0m\u001b[0mfigure\u001b[0m\u001b[1;33m(\u001b[0m\u001b[0mfigsize\u001b[0m \u001b[1;33m=\u001b[0m\u001b[1;33m(\u001b[0m\u001b[1;36m10\u001b[0m\u001b[1;33m,\u001b[0m\u001b[1;36m6\u001b[0m\u001b[1;33m)\u001b[0m\u001b[1;33m)\u001b[0m\u001b[1;33m\u001b[0m\u001b[0m\n",
        "\u001b[1;31mIndexError\u001b[0m: index out of bounds"
       ]
      }
     ],
     "prompt_number": 272
    },
    {
     "cell_type": "code",
     "collapsed": false,
     "input": [],
     "language": "python",
     "metadata": {},
     "outputs": []
    },
    {
     "cell_type": "code",
     "collapsed": false,
     "input": [
      "for i in range(0,len(MaturityPoints)):\n",
      "    print i\n",
      "    print MaturityPoints[i]\n",
      "for j in range(0,len(MoneynessPoints)):\n",
      "    print j\n",
      "    print MoneynessPoints[j]\n",
      "print len(MaturityPoints)\n",
      "print len(MoneynessPoints)\n",
      "z[0,2] = 5\n",
      "z.shape\n",
      "print z"
     ],
     "language": "python",
     "metadata": {},
     "outputs": []
    },
    {
     "cell_type": "code",
     "collapsed": false,
     "input": [
      "z[1,1] = 5\n",
      "z\n",
      "type(volatilitySurfaceMarket.query('Maturity == MaturityPoints[0] & Moneyness == MoneynessPoints[0]').Volatility.values[0])"
     ],
     "language": "python",
     "metadata": {},
     "outputs": []
    },
    {
     "cell_type": "code",
     "collapsed": false,
     "input": [
      "volatilitySurfaceMarket"
     ],
     "language": "python",
     "metadata": {},
     "outputs": []
    },
    {
     "cell_type": "code",
     "collapsed": false,
     "input": [],
     "language": "python",
     "metadata": {},
     "outputs": []
    }
   ],
   "metadata": {}
  }
 ]
}