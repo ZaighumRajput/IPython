{
 "metadata": {
  "name": "",
  "signature": "sha256:218ea383c32f40ae4bfcbfb87bbb0a0727c9798b363994915bfb22cce61604d4"
 },
 "nbformat": 3,
 "nbformat_minor": 0,
 "worksheets": [
  {
   "cells": [
    {
     "cell_type": "raw",
     "metadata": {},
     "source": [
      "http://www.nuclearphynance.com/User%20Files/1915/How%20To%20Tell%20If%20Options%20Are%20Cheap.pdf"
     ]
    },
    {
     "cell_type": "heading",
     "level": 4,
     "metadata": {},
     "source": [
      "The price of an option is directly related to the markets' perception of the underlying's volatility.\n",
      "\n",
      "$$P(S,T,K, \\sigma_{imp}, r) \\propto \\sigma_{market} $$\n",
      "The buyer of an option can profit under two conditions: \n",
      "\n",
      "1. The realized volatility of the underlying turns out ot be greater than the volatility implied by the price paid for the option\n",
      "\n",
      "2. The market revises upward its perception of how volatile it believes the underlyling is likely to be"
     ]
    },
    {
     "cell_type": "code",
     "collapsed": false,
     "input": [
      "#Historical Volatility or Statistical Volatility \n"
     ],
     "language": "python",
     "metadata": {},
     "outputs": [],
     "prompt_number": 1
    },
    {
     "cell_type": "code",
     "collapsed": false,
     "input": [
      "0.645*sqrt(254)"
     ],
     "language": "python",
     "metadata": {},
     "outputs": [
      {
       "metadata": {},
       "output_type": "pyout",
       "prompt_number": 3,
       "text": [
        "10.279608455578453"
       ]
      }
     ],
     "prompt_number": 3
    },
    {
     "cell_type": "code",
     "collapsed": false,
     "input": [
      "#connect to CBOE"
     ],
     "language": "python",
     "metadata": {},
     "outputs": [],
     "prompt_number": 4
    },
    {
     "cell_type": "code",
     "collapsed": false,
     "input": [
      "import pandas as pd\n",
      "import pandas.io.data as web\n",
      "import datetime\n",
      "\n",
      "start = datetime.datetime(2010, 1, 1)\n",
      "end = datetime.datetime(2013, 1, 27)\n",
      "stock = web.DataReader(\"AAPL\", 'yahoo', start, end)"
     ],
     "language": "python",
     "metadata": {},
     "outputs": [],
     "prompt_number": 16
    },
    {
     "cell_type": "code",
     "collapsed": false,
     "input": [
      "stock.ix['2010-01':'2010-03']['Adj Close'].std()"
     ],
     "language": "python",
     "metadata": {},
     "outputs": [
      {
       "metadata": {},
       "output_type": "pyout",
       "prompt_number": 25,
       "text": [
        "1.6540448352264689"
       ]
      }
     ],
     "prompt_number": 25
    },
    {
     "cell_type": "code",
     "collapsed": false,
     "input": [
      "stock.ix['2010-01':'2010-04']['Adj Close'].std()"
     ],
     "language": "python",
     "metadata": {},
     "outputs": [
      {
       "metadata": {},
       "output_type": "pyout",
       "prompt_number": 26,
       "text": [
        "2.9161677880226025"
       ]
      }
     ],
     "prompt_number": 26
    }
   ],
   "metadata": {}
  }
 ]
}