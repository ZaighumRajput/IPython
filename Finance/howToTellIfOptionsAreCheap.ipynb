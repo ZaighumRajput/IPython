{
 "metadata": {
  "name": "",
  "signature": "sha256:8b242e43561b2466bc477a4a65195563480199f05b0ae8806bdac0579a0a8a21"
 },
 "nbformat": 3,
 "nbformat_minor": 0,
 "worksheets": [
  {
   "cells": [
    {
     "cell_type": "raw",
     "metadata": {},
     "source": [
      "http://www.nuclearphynance.com/User%20Files/1915/How%20To%20Tell%20If%20Options%20Are%20Cheap.pdf"
     ]
    },
    {
     "cell_type": "heading",
     "level": 4,
     "metadata": {},
     "source": [
      "The price of an option is directly related to the markets' perception of the underlying's volatility.\n",
      "\n",
      "$$P(S,T,K, \\sigma_{imp}, r) \\propto \\sigma_{market} $$\n",
      "The buyer of an option can profit under two conditions: \n",
      "\n",
      "1. The realized volatility of the underlying turns out ot be greater than the volatility implied by the price paid for the option\n",
      "\n",
      "2. The market revises upward its perception of how volatile it believes the underlyling is likely to be"
     ]
    },
    {
     "cell_type": "code",
     "collapsed": false,
     "input": [
      "#Historical Volatility or Statistical Volatility \n"
     ],
     "language": "python",
     "metadata": {},
     "outputs": [],
     "prompt_number": 1
    },
    {
     "cell_type": "code",
     "collapsed": false,
     "input": [
      "0.645*sqrt(254)"
     ],
     "language": "python",
     "metadata": {},
     "outputs": [
      {
       "metadata": {},
       "output_type": "pyout",
       "prompt_number": 3,
       "text": [
        "10.279608455578453"
       ]
      }
     ],
     "prompt_number": 3
    },
    {
     "cell_type": "code",
     "collapsed": false,
     "input": [
      "#connect to CBOE"
     ],
     "language": "python",
     "metadata": {},
     "outputs": []
    }
   ],
   "metadata": {}
  }
 ]
}