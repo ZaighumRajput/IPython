{
 "metadata": {
  "name": ""
 },
 "nbformat": 3,
 "nbformat_minor": 0,
 "worksheets": [
  {
   "cells": [
    {
     "cell_type": "heading",
     "level": 1,
     "metadata": {},
     "source": [
      "Comparing Volatility Surfaces"
     ]
    },
    {
     "cell_type": "markdown",
     "metadata": {},
     "source": [
      "The purpose of this document is to assess how well Merton Jump diffusion fits the market. \n",
      "To do this we run our CSharp tool. The CSharp tool calibrates,returns MJD parameters,and outputs implied volatility surface.\n"
     ]
    },
    {
     "cell_type": "code",
     "collapsed": false,
     "input": [
      "import numpy as np\n",
      "import pandas as pd\n",
      "import os\n",
      "import matplotlib.pyplot as plt\n",
      "import pyuvvis as pyu"
     ],
     "language": "python",
     "metadata": {},
     "outputs": [],
     "prompt_number": 741
    },
    {
     "cell_type": "code",
     "collapsed": false,
     "input": [
      "index = \".FTSE\" #choices include .AEX, .TOPX, .IBEX, .FTSE"
     ],
     "language": "python",
     "metadata": {},
     "outputs": [],
     "prompt_number": 742
    },
    {
     "cell_type": "code",
     "collapsed": false,
     "input": [
      "volatilitySurfaceMarket = pd.read_csv(\"C:\\\\MJD_Cali\\\\\" + index + \"_market.csv\", usecols=[8,14,17], skipfooter=1, skiprows=1, header=None)\n",
      "volatilitySurfaceMarket.columns = ['Maturity','Moneyness','Volatility']\n",
      "\n",
      "MarketVolatility = volatilitySurfaceMarket.groupby(['Maturity','Moneyness']).sum()\n",
      "#AEXMarket = AEXMarket.sum()"
     ],
     "language": "python",
     "metadata": {},
     "outputs": [],
     "prompt_number": 743
    },
    {
     "cell_type": "code",
     "collapsed": false,
     "input": [
      "volatilitySurfaceModel = pd.read_csv(\"C:\\\\MJD_Cali\\\\\" + index + \"_model.csv\", usecols=[8,14,17], skipfooter=1, skiprows=1, header=None)\n",
      "volatilitySurfaceModel.columns = ['Maturity','Moneyness','Volatility']\n",
      "volatilitySurfaceModel['Maturity'] = volatilitySurfaceModel['Maturity'].round() #have to cast for lower maturities... \n",
      "\n",
      "ModelVolatility = volatilitySurfaceModel.groupby(['Maturity','Moneyness']).sum()\n",
      "\n",
      "#AEXModel = AEXModel.sum()"
     ],
     "language": "python",
     "metadata": {},
     "outputs": [],
     "prompt_number": "*"
    },
    {
     "cell_type": "code",
     "collapsed": false,
     "input": [
      "modelParameters = pd.read_csv(\"C:\\\\MJD_Cali\\\\\" + index + \"_parameters.csv\",header=None, index_col=0)\n",
      "modelParameters.columns =['Value']\n",
      "modelParameters.index.name ='Parameter'\n",
      "\n",
      "modelParameters"
     ],
     "language": "python",
     "metadata": {},
     "outputs": [
      {
       "html": [
        "<div style=\"max-height:1000px;max-width:1500px;overflow:auto;\">\n",
        "<table border=\"1\" class=\"dataframe\">\n",
        "  <thead>\n",
        "    <tr style=\"text-align: right;\">\n",
        "      <th></th>\n",
        "      <th>Value</th>\n",
        "    </tr>\n",
        "    <tr>\n",
        "      <th>Parameter</th>\n",
        "      <th></th>\n",
        "    </tr>\n",
        "  </thead>\n",
        "  <tbody>\n",
        "    <tr>\n",
        "      <th>jumpIntensity</th>\n",
        "      <td>  0.153089</td>\n",
        "    </tr>\n",
        "    <tr>\n",
        "      <th>jumpMean</th>\n",
        "      <td> -0.268013</td>\n",
        "    </tr>\n",
        "    <tr>\n",
        "      <th>jumpVol</th>\n",
        "      <td>  0.197219</td>\n",
        "    </tr>\n",
        "    <tr>\n",
        "      <th>vol</th>\n",
        "      <td>  0.095695</td>\n",
        "    </tr>\n",
        "    <tr>\n",
        "      <th>SumSquaredError in bps</th>\n",
        "      <td> 12.615736</td>\n",
        "    </tr>\n",
        "    <tr>\n",
        "      <th>AverageError</th>\n",
        "      <td>  0.000047</td>\n",
        "    </tr>\n",
        "  </tbody>\n",
        "</table>\n",
        "<p>6 rows \u00d7 1 columns</p>\n",
        "</div>"
       ],
       "metadata": {},
       "output_type": "pyout",
       "prompt_number": 745,
       "text": [
        "                            Value\n",
        "Parameter                        \n",
        "jumpIntensity            0.153089\n",
        "jumpMean                -0.268013\n",
        "jumpVol                  0.197219\n",
        "vol                      0.095695\n",
        "SumSquaredError in bps  12.615736\n",
        "AverageError             0.000047\n",
        "\n",
        "[6 rows x 1 columns]"
       ]
      }
     ],
     "prompt_number": "*"
    },
    {
     "cell_type": "heading",
     "level": 3,
     "metadata": {},
     "source": [
      "AEX Model Implied Volatility:"
     ]
    },
    {
     "cell_type": "code",
     "collapsed": false,
     "input": [
      "moneynessLevels = MarketVolatility.index.levels[1].values[6:15]\n",
      "maturityLevels = np.array([1,2,3])\n",
      "#print volatilitySurfaceMarket.dtypes\n",
      "plotVolatilitySurface(MarketVolatility,maturityLevels,moneynessLevels)\n",
      "plotVolatilitySurface(ModelVolatility,maturityLevels,moneynessLevels)\n"
     ],
     "language": "python",
     "metadata": {},
     "outputs": [],
     "prompt_number": "*"
    },
    {
     "cell_type": "code",
     "collapsed": false,
     "input": [
      "f = plt.figure(figsize=(5, 4))\n",
      "ModelVolatility.ix[90].ix[0.8:1.25].plot(ax=f.gca())\n",
      "MarketVolatility.ix[90].ix[0.8:1.25].plot(ax=f.gca())\n",
      "\n"
     ],
     "language": "python",
     "metadata": {},
     "outputs": [],
     "prompt_number": "*"
    },
    {
     "cell_type": "markdown",
     "metadata": {},
     "source": [
      "Calibration Error Measure: $$||V-V_{model}||^2$$"
     ]
    },
    {
     "cell_type": "code",
     "collapsed": false,
     "input": [
      "(((ModelVolatility - MarketVolatility)**2).dropna().sum())**2"
     ],
     "language": "python",
     "metadata": {},
     "outputs": [],
     "prompt_number": "*"
    },
    {
     "cell_type": "heading",
     "level": 3,
     "metadata": {},
     "source": [
      "Absolute Differences in Volatility"
     ]
    },
    {
     "cell_type": "code",
     "collapsed": false,
     "input": [
      "absoluteDifferenceSurface = (abs(ModelVolatility - MarketVolatility))\n",
      "absoluteDifferenceSurface.dropna()"
     ],
     "language": "python",
     "metadata": {},
     "outputs": [],
     "prompt_number": "*"
    },
    {
     "cell_type": "code",
     "collapsed": false,
     "input": [
      "absoluteDifferenceSurface.describe()"
     ],
     "language": "python",
     "metadata": {},
     "outputs": [],
     "prompt_number": "*"
    },
    {
     "cell_type": "code",
     "collapsed": false,
     "input": [
      "absoluteDifferenceSurface.boxplot();"
     ],
     "language": "python",
     "metadata": {},
     "outputs": [],
     "prompt_number": "*"
    },
    {
     "cell_type": "heading",
     "level": 2,
     "metadata": {},
     "source": [
      "Price difference"
     ]
    },
    {
     "cell_type": "code",
     "collapsed": false,
     "input": [
      "marketPriceSurface = pd.read_csv(\"C:\\\\MJD_Cali\\\\\" + index + \"_marketPrices.csv\", usecols=[8,14,17], skipfooter=1, skiprows=1, header=None)\n",
      "marketPriceSurface.columns = ['Maturity','Moneyness','Price']\n",
      "MarketPrice = marketPriceSurface.groupby(['Maturity','Moneyness']).sum()"
     ],
     "language": "python",
     "metadata": {},
     "outputs": [],
     "prompt_number": "*"
    },
    {
     "cell_type": "code",
     "collapsed": false,
     "input": [
      "modelPriceSurface = pd.read_csv(\"C:\\\\MJD_Cali\\\\\" + index + \"_modelPrices.csv\", usecols=[8,14,17], skipfooter=1, skiprows=1, header=None)\n",
      "modelPriceSurface.columns = ['Maturity','Moneyness','Price']\n",
      "ModelPrice = modelPriceSurface.groupby(['Maturity','Moneyness']).sum()"
     ],
     "language": "python",
     "metadata": {},
     "outputs": [],
     "prompt_number": "*"
    },
    {
     "cell_type": "code",
     "collapsed": false,
     "input": [
      "relativeDifference = abs(MarketPrice - ModelPrice)/ModelPrice*100"
     ],
     "language": "python",
     "metadata": {},
     "outputs": [],
     "prompt_number": "*"
    },
    {
     "cell_type": "code",
     "collapsed": false,
     "input": [
      "relativeDifference"
     ],
     "language": "python",
     "metadata": {},
     "outputs": [],
     "prompt_number": "*"
    },
    {
     "cell_type": "code",
     "collapsed": false,
     "input": [
      "relativeDifference.describe()"
     ],
     "language": "python",
     "metadata": {},
     "outputs": [],
     "prompt_number": "*"
    },
    {
     "cell_type": "code",
     "collapsed": false,
     "input": [
      "absoluteDifference = abs(MarketVolatility - ModelVolatility)\n",
      "absoluteDifference.dropna()"
     ],
     "language": "python",
     "metadata": {},
     "outputs": [],
     "prompt_number": "*"
    },
    {
     "cell_type": "code",
     "collapsed": false,
     "input": [
      "absoluteDifference.describe()\n"
     ],
     "language": "python",
     "metadata": {},
     "outputs": [],
     "prompt_number": "*"
    },
    {
     "cell_type": "code",
     "collapsed": false,
     "input": [
      "moneynessLevels = ModelPrice.index.levels[1].values[6:15]\n",
      "maturityLevels = np.array([30./365,90./365,1,2,3])\n",
      "#print volatilitySurfaceMarket.dtypes\n",
      "plotVolatilitySurface(ModelPrice,maturityLevels,moneynessLevels)\n",
      "plotVolatilitySurface(MarketPrice,maturityLevels,moneynessLevels)"
     ],
     "language": "python",
     "metadata": {},
     "outputs": [],
     "prompt_number": "*"
    },
    {
     "cell_type": "code",
     "collapsed": false,
     "input": [
      "def plotVolatilitySurface(dfVolatility,npMaturity, npMoneyness, debug=False):\n",
      "    '''\n",
      "    Takes in a dataframe in the form of:\n",
      "                         [Volatility(or Price)]   \n",
      "    [Maturity][Moneyness]\n",
      "    \n",
      "    And a list of maturities e.g [1,2,5]\n",
      "    and a list of moneynesses e.g [1.25,1,0.8]\n",
      "    and returns a  mpl_toolkits.mplot3d\n",
      "    '''\n",
      "    \n",
      "    import matplotlib.pyplot as plt\n",
      "    from mpl_toolkits.mplot3d.axes3d import Axes3D\n",
      "    #print dfVolatility.index.levels[1].values\n",
      "    maturityLevel = npMaturity*365\n",
      "    moneynessLevel = npMoneyness\n",
      "    #maturityLevel = dfVolatility.index.levels[0].values\n",
      "    #moneynessLevel = dfVolatility.index.levels[1].values\n",
      "    \n",
      "    [ma,mo] = meshgrid(maturityLevel, moneynessLevel)\n",
      "    \n",
      "    #z = np.zeros((len(maturityLevel), len(moneynessLevel)), float64)\n",
      "    z = np.zeros((len(moneynessLevel),len(maturityLevel)), float64)\n",
      "    \n",
      "    if(debug):\n",
      "        print maturityLevel\n",
      "        print moneynessLevel\n",
      "        print z.shape\n",
      "    try:   \n",
      "        for j in range(0, len(maturityLevel)):\n",
      "            for i in range(0,len(moneynessLevel)):\n",
      "                if debug: print np.float64(MarketVolatility.ix[ma[i,j]].ix[mo[i,j]].values)\n",
      "                z[i,j] = np.float64(dfVolatility.ix[ma[i,j]].ix[mo[i,j]].values)\n",
      "    except:\n",
      "        print \"Moneyness or Maturity does not exist in the volatility surface passed\"\n",
      "    \n",
      "    figu = plt.figure(figsize =(10,6))\n",
      "    aks = Axes3D(figu)\n",
      "\n",
      "    \n",
      "    return aks.plot_wireframe(mo, ma, z, color='b');\n",
      "#aks.plot(maturityLevel,moneynessLevel,0)\n",
      "\n",
      "\n",
      "    "
     ],
     "language": "python",
     "metadata": {},
     "outputs": [],
     "prompt_number": "*"
    },
    {
     "cell_type": "code",
     "collapsed": false,
     "input": [
      "def plotDifferencePlot(dfVolatility, debug=False):\n",
      "    '''\n",
      "    Takes in a dataframe in the form of:\n",
      "                         [Volatility(or Price)]   \n",
      "    [Maturity][Moneyness]\n",
      "     \n",
      "    and returns a  mpl_toolkits.mplot3d\n",
      "    '''\n",
      "    \n",
      "    import matplotlib.pyplot as plt\n",
      "    from mpl_toolkits.mplot3d.axes3d import Axes3D\n",
      "    maturityLevel = dfVolatility.index.levels[0].values\n",
      "    moneynessLevel = dfVolatility.index.levels[1].values\n",
      "    \n",
      "    [ma,mo] = meshgrid(maturityLevel, moneynessLevel)\n",
      "        \n",
      "    #z = np.zeros((len(maturityLevel), len(moneynessLevel)), float64)\n",
      "    z = np.zeros((len(moneynessLevel),len(maturityLevel)))\n",
      "    \n",
      "    if(debug):\n",
      "        print maturityLevel\n",
      "        print moneynessLevel\n",
      "        print z.shape\n",
      "        \n",
      "    for j in range(0, len(maturityLevel)):\n",
      "        for i in range(0,len(moneynessLevel)):\n",
      "           z[i,j] = np.float64(dfVolatility.ix[ma[i,j]].ix[mo[i,j]].values)\n",
      "            \n",
      "            \n",
      "    xpos = ma.flatten()\n",
      "    ypos = mo.flatten()\n",
      "    zpos = z.flatten()\n",
      "    #dx = 0.5 * np.ones_like(zpos)\n",
      "    #dy = dx.copy()\n",
      "    #dz = hist.flatten()\n",
      "\n",
      "           \n",
      "    \n",
      "    fig = plt.figure()\n",
      "    ax = fig.add_subplot(111, projection='3d')\n",
      "    \n",
      "    return ax.bar3d(ma, mo, z, 0.2, 0.2, 0.2, color='b') \n",
      " \n"
     ],
     "language": "python",
     "metadata": {},
     "outputs": [],
     "prompt_number": "*"
    }
   ],
   "metadata": {}
  }
 ]
}