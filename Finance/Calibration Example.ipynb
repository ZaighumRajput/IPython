{
 "metadata": {
  "name": ""
 },
 "nbformat": 3,
 "nbformat_minor": 0,
 "worksheets": [
  {
   "cells": [
    {
     "cell_type": "heading",
     "level": 1,
     "metadata": {},
     "source": [
      "Impact Analysis"
     ]
    },
    {
     "cell_type": "heading",
     "level": 1,
     "metadata": {},
     "source": [
      "1. Current Surface Matlab vs CSharp"
     ]
    },
    {
     "cell_type": "markdown",
     "metadata": {},
     "source": [
      "We calibrate as the current production settings is and compare against the market"
     ]
    },
    {
     "cell_type": "code",
     "collapsed": false,
     "input": [
      "import numpy as np\n",
      "import pandas as pd\n",
      "from os import *\n",
      "import matplotlib as plt"
     ],
     "language": "python",
     "metadata": {},
     "outputs": [],
     "prompt_number": 10
    },
    {
     "cell_type": "code",
     "collapsed": false,
     "input": [
      "matlabRunFolder = \"C:\\MCPPI Data\\Impact Analysis\"\n",
      "cSharpRunFolder = \"C:\\MJD_Cali\""
     ],
     "language": "python",
     "metadata": {},
     "outputs": [],
     "prompt_number": 4
    },
    {
     "cell_type": "heading",
     "level": 3,
     "metadata": {},
     "source": [
      "Matlab:"
     ]
    },
    {
     "cell_type": "code",
     "collapsed": false,
     "input": [
      "index = 'aex'\n",
      "priceSurface_MatlabCalibrated = pd.read_csv(path.join(matlabRunFolder,'Full', index + '.csv'), header=None)\n",
      "priceSurface_MatlabCalibrated.columns = ['Maturity', 'Moneyness', 'ModelPrice', 'MarketPrice']\n",
      "priceSurface_MatlabCalibrated = priceSurface_MatlabCalibrated.groupby(['Maturity','Moneyness']).sum()"
     ],
     "language": "python",
     "metadata": {},
     "outputs": [],
     "prompt_number": 123
    },
    {
     "cell_type": "markdown",
     "metadata": {},
     "source": [
      "We find differences between the market and calibration"
     ]
    },
    {
     "cell_type": "code",
     "collapsed": false,
     "input": [
      "priceSurface_MatlabCalibrated.head()"
     ],
     "language": "python",
     "metadata": {},
     "outputs": [
      {
       "html": [
        "<div style=\"max-height:1000px;max-width:1500px;overflow:auto;\">\n",
        "<table border=\"1\" class=\"dataframe\">\n",
        "  <thead>\n",
        "    <tr style=\"text-align: right;\">\n",
        "      <th></th>\n",
        "      <th></th>\n",
        "      <th>ModelPrice</th>\n",
        "      <th>MarketPrice</th>\n",
        "    </tr>\n",
        "    <tr>\n",
        "      <th>Maturity</th>\n",
        "      <th>Moneyness</th>\n",
        "      <th></th>\n",
        "      <th></th>\n",
        "    </tr>\n",
        "  </thead>\n",
        "  <tbody>\n",
        "    <tr>\n",
        "      <th rowspan=\"5\" valign=\"top\">1</th>\n",
        "      <th>0.83334</th>\n",
        "      <td> 1.8520</td>\n",
        "      <td> 1.01</td>\n",
        "    </tr>\n",
        "    <tr>\n",
        "      <th>0.86957</th>\n",
        "      <td> 3.2142</td>\n",
        "      <td> 2.31</td>\n",
        "    </tr>\n",
        "    <tr>\n",
        "      <th>0.88889</th>\n",
        "      <td> 4.3527</td>\n",
        "      <td> 3.45</td>\n",
        "    </tr>\n",
        "    <tr>\n",
        "      <th>0.90909</th>\n",
        "      <td> 5.9363</td>\n",
        "      <td> 5.06</td>\n",
        "    </tr>\n",
        "    <tr>\n",
        "      <th>0.92592</th>\n",
        "      <td> 7.6037</td>\n",
        "      <td> 6.76</td>\n",
        "    </tr>\n",
        "  </tbody>\n",
        "</table>\n",
        "<p>5 rows \u00d7 2 columns</p>\n",
        "</div>"
       ],
       "metadata": {},
       "output_type": "pyout",
       "prompt_number": 124,
       "text": [
        "                    ModelPrice  MarketPrice\n",
        "Maturity Moneyness                         \n",
        "1        0.83334        1.8520         1.01\n",
        "         0.86957        3.2142         2.31\n",
        "         0.88889        4.3527         3.45\n",
        "         0.90909        5.9363         5.06\n",
        "         0.92592        7.6037         6.76\n",
        "\n",
        "[5 rows x 2 columns]"
       ]
      }
     ],
     "prompt_number": 124
    },
    {
     "cell_type": "code",
     "collapsed": false,
     "input": [
      "relativeDifferenceDF=abs(priceSurface_MatlabCalibrated.ModelPrice-priceSurface_MatlabCalibrated.MarketPrice)/priceSurface_MatlabCalibrated.MarketPrice*100"
     ],
     "language": "python",
     "metadata": {},
     "outputs": [],
     "prompt_number": 165
    },
    {
     "cell_type": "code",
     "collapsed": false,
     "input": [
      "\"We get a max relative difference of %d.02%% and an average relative difference of %d.02%%\" %  \\\n",
      "(max(relativeDifferenceDF),average(relativeDifferenceDF))"
     ],
     "language": "python",
     "metadata": {},
     "outputs": [
      {
       "metadata": {},
       "output_type": "pyout",
       "prompt_number": 166,
       "text": [
        "'We get a max relative difference of 83.02% and an average relative difference of 3.02%'"
       ]
      }
     ],
     "prompt_number": 166
    },
    {
     "cell_type": "code",
     "collapsed": false,
     "input": [
      "relativeDifferenceDF.describe()"
     ],
     "language": "python",
     "metadata": {},
     "outputs": [
      {
       "metadata": {},
       "output_type": "pyout",
       "prompt_number": 167,
       "text": [
        "count    152.000000\n",
        "mean       3.722996\n",
        "std        8.172623\n",
        "min        0.002276\n",
        "25%        0.941240\n",
        "50%        2.031843\n",
        "75%        3.149753\n",
        "max       83.366337\n",
        "dtype: float64"
       ]
      }
     ],
     "prompt_number": 167
    },
    {
     "cell_type": "markdown",
     "metadata": {},
     "source": [
      "We can find out all the differences where the relative difference is greater than 2%. We notice that they are early maturities and some far dated ones. Out of 152 points 77 have an error of greater than 2%"
     ]
    },
    {
     "cell_type": "code",
     "collapsed": false,
     "input": [
      "relativeDifferenceDF[relativeDifferenceDF > 2.0]"
     ],
     "language": "python",
     "metadata": {},
     "outputs": [
      {
       "metadata": {},
       "output_type": "pyout",
       "prompt_number": 168,
       "text": [
        "Maturity  Moneyness\n",
        "1         0.83334      83.366337\n",
        "          0.86957      39.142857\n",
        "          0.88889      26.165217\n",
        "          0.90909      17.318182\n",
        "          0.92592      12.480769\n",
        "          0.94340       8.969663\n",
        "          0.95238       7.394297\n",
        "          0.96153       6.167820\n",
        "          0.98040       4.009466\n",
        "          1.00000       2.656250\n",
        "          1.08700       2.043094\n",
        "          1.11110       2.485939\n",
        "          1.14290       3.046890\n",
        "          1.17650       3.478980\n",
        "          1.25000       3.690982\n",
        "...\n",
        "5         0.92592      2.713454\n",
        "          0.94340      2.606748\n",
        "          0.95238      2.560276\n",
        "          0.96153      2.482054\n",
        "          0.98040      2.366471\n",
        "          1.00000      2.220379\n",
        "          1.02040      2.064261\n",
        "10        0.83334      5.499454\n",
        "          0.86957      4.373045\n",
        "          0.88889      3.887757\n",
        "          0.90909      3.375186\n",
        "          0.92592      2.948328\n",
        "          0.94340      2.534260\n",
        "          0.95238      2.322909\n",
        "          0.96153      2.124333\n",
        "Length: 77, dtype: float64"
       ]
      }
     ],
     "prompt_number": 168
    },
    {
     "cell_type": "heading",
     "level": 3,
     "metadata": {},
     "source": [
      "CSharp; right now also contains the tough to fit 3 month maturity"
     ]
    },
    {
     "cell_type": "code",
     "collapsed": false,
     "input": [
      "index = \".AEX\" #choices include .AEX, .TOPX, .IBEX, .FTSE"
     ],
     "language": "python",
     "metadata": {},
     "outputs": [],
     "prompt_number": 148
    },
    {
     "cell_type": "code",
     "collapsed": false,
     "input": [
      "marketPriceSurface = pd.read_csv(\"C:\\\\MJD_Cali\\\\\" + index + \"_marketPrices.csv\", usecols=[8,14,17], skipfooter=1, skiprows=1, header=None)\n",
      "marketPriceSurface.columns = ['Maturity','Moneyness','Price']\n",
      "MarketPrice = marketPriceSurface.groupby(['Maturity','Moneyness']).sum()\n"
     ],
     "language": "python",
     "metadata": {},
     "outputs": [],
     "prompt_number": 155
    },
    {
     "cell_type": "code",
     "collapsed": false,
     "input": [
      "modelPriceSurface = pd.read_csv(\"C:\\\\MJD_Cali\\\\\" + index + \"_modelPrices.csv\", usecols=[8,14,17], skipfooter=1, skiprows=1, header=None)\n",
      "modelPriceSurface.columns = ['Maturity','Moneyness','Price']\n",
      "ModelPrice = modelPriceSurface.groupby(['Maturity','Moneyness']).sum()"
     ],
     "language": "python",
     "metadata": {},
     "outputs": [],
     "prompt_number": 156
    },
    {
     "cell_type": "code",
     "collapsed": false,
     "input": [
      "relativeDifference = abs(MarketPrice - ModelPrice)/ModelPrice*100"
     ],
     "language": "python",
     "metadata": {},
     "outputs": [],
     "prompt_number": 174
    },
    {
     "cell_type": "code",
     "collapsed": false,
     "input": [
      "\"We get a max difference of %d.02%%\" % max(relativeDifference.Price) "
     ],
     "language": "python",
     "metadata": {},
     "outputs": [
      {
       "metadata": {},
       "output_type": "pyout",
       "prompt_number": 184,
       "text": [
        "'We get a max difference of 34.02%'"
       ]
      }
     ],
     "prompt_number": 184
    },
    {
     "cell_type": "markdown",
     "metadata": {},
     "source": [
      "We want to see all the errors above 2.0%"
     ]
    },
    {
     "cell_type": "code",
     "collapsed": false,
     "input": [
      "relativeDifference.Price[relativeDifference.Price > 2.0]"
     ],
     "language": "python",
     "metadata": {},
     "outputs": [
      {
       "metadata": {},
       "output_type": "pyout",
       "prompt_number": 186,
       "text": [
        "Maturity  Moneyness\n",
        "90        0.833333     34.917149\n",
        "          0.869565     11.293182\n",
        "          0.909091     19.822192\n",
        "          0.952381     23.228688\n",
        "          1.000000     10.831556\n",
        "          1.052632      5.477827\n",
        "          1.111111      2.760536\n",
        "365       0.833333     27.086849\n",
        "          0.869565     25.941317\n",
        "          0.909091     21.037503\n",
        "          0.952381     14.782352\n",
        "          1.000000      7.677880\n",
        "          1.052632      2.528206\n",
        "730       0.833333      6.271082\n",
        "          0.869565      6.872812\n",
        "          0.909091      5.353045\n",
        "          0.952381      2.113580\n",
        "          1.052632      3.903084\n",
        "          1.111111      5.218376\n",
        "          1.176471      5.435771\n",
        "          1.250000      4.804396\n",
        "1095      0.833333      5.119913\n",
        "          0.869565      5.480391\n",
        "          0.909091      6.567261\n",
        "          0.952381      7.954702\n",
        "          1.000000      9.112755\n",
        "          1.052632      9.759932\n",
        "          1.111111      9.759564\n",
        "          1.176471      9.239260\n",
        "          1.250000      8.201229\n",
        "Name: Price, dtype: float64"
       ]
      }
     ],
     "prompt_number": 186
    }
   ],
   "metadata": {}
  }
 ]
}