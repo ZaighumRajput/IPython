{
 "metadata": {
  "name": ""
 },
 "nbformat": 3,
 "nbformat_minor": 0,
 "worksheets": [
  {
   "cells": [
    {
     "cell_type": "heading",
     "level": 1,
     "metadata": {},
     "source": [
      "Impact Analysis"
     ]
    },
    {
     "cell_type": "heading",
     "level": 1,
     "metadata": {},
     "source": [
      "1. Current Surface Matlab vs CSharp"
     ]
    },
    {
     "cell_type": "markdown",
     "metadata": {},
     "source": [
      "We calibrate as the current production settings are and compare against the market prices"
     ]
    },
    {
     "cell_type": "code",
     "collapsed": false,
     "input": [
      "import numpy as np\n",
      "import pandas as pd\n",
      "from os import *\n",
      "import matplotlib as plt"
     ],
     "language": "python",
     "metadata": {},
     "outputs": [],
     "prompt_number": 677
    },
    {
     "cell_type": "code",
     "collapsed": false,
     "input": [
      "matlabRunFolder = \"C:\\MCPPI Data\\Impact Analysis\"\n",
      "cSharpRunFolder = \"C:\\MJD_Cali\""
     ],
     "language": "python",
     "metadata": {},
     "outputs": [],
     "prompt_number": 678
    },
    {
     "cell_type": "heading",
     "level": 2,
     "metadata": {},
     "source": [
      "Matlab:"
     ]
    },
    {
     "cell_type": "code",
     "collapsed": false,
     "input": [
      "index = 'ibex'\n",
      "priceSurface_MatlabCalibrated = pd.read_csv(path.join(matlabRunFolder,'Full', index + '.csv'), header=None)\n",
      "priceSurface_MatlabCalibrated.columns = ['Maturity', 'Moneyness', 'ModelPrice', 'MarketPrice']\n",
      "priceSurface_MatlabCalibrated = priceSurface_MatlabCalibrated.groupby(['Maturity','Moneyness']).sum()"
     ],
     "language": "python",
     "metadata": {},
     "outputs": [],
     "prompt_number": 679
    },
    {
     "cell_type": "markdown",
     "metadata": {},
     "source": [
      "We find differences between the market and calibration"
     ]
    },
    {
     "cell_type": "code",
     "collapsed": false,
     "input": [
      "priceSurface_MatlabCalibrated"
     ],
     "language": "python",
     "metadata": {},
     "outputs": [
      {
       "html": [
        "<div style=\"max-height:1000px;max-width:1500px;overflow:auto;\">\n",
        "<table border=\"1\" class=\"dataframe\">\n",
        "  <thead>\n",
        "    <tr style=\"text-align: right;\">\n",
        "      <th></th>\n",
        "      <th></th>\n",
        "      <th>ModelPrice</th>\n",
        "      <th>MarketPrice</th>\n",
        "    </tr>\n",
        "    <tr>\n",
        "      <th>Maturity</th>\n",
        "      <th>Moneyness</th>\n",
        "      <th></th>\n",
        "      <th></th>\n",
        "    </tr>\n",
        "  </thead>\n",
        "  <tbody>\n",
        "    <tr>\n",
        "      <th rowspan=\"19\" valign=\"top\">1.0</th>\n",
        "      <th>0.83333</th>\n",
        "      <td>  151.60</td>\n",
        "      <td>   87.19</td>\n",
        "    </tr>\n",
        "    <tr>\n",
        "      <th>0.86956</th>\n",
        "      <td>  213.64</td>\n",
        "      <td>  155.65</td>\n",
        "    </tr>\n",
        "    <tr>\n",
        "      <th>0.88889</th>\n",
        "      <td>  256.13</td>\n",
        "      <td>  203.38</td>\n",
        "    </tr>\n",
        "    <tr>\n",
        "      <th>0.90909</th>\n",
        "      <td>  308.99</td>\n",
        "      <td>  262.28</td>\n",
        "    </tr>\n",
        "    <tr>\n",
        "      <th>0.92593</th>\n",
        "      <td>  360.25</td>\n",
        "      <td>  318.64</td>\n",
        "    </tr>\n",
        "    <tr>\n",
        "      <th>0.94340</th>\n",
        "      <td>  420.70</td>\n",
        "      <td>  383.84</td>\n",
        "    </tr>\n",
        "    <tr>\n",
        "      <th>0.95238</th>\n",
        "      <td>  454.68</td>\n",
        "      <td>  419.85</td>\n",
        "    </tr>\n",
        "    <tr>\n",
        "      <th>0.96154</th>\n",
        "      <td>  491.30</td>\n",
        "      <td>  458.18</td>\n",
        "    </tr>\n",
        "    <tr>\n",
        "      <th>0.98039</th>\n",
        "      <td>  572.77</td>\n",
        "      <td>  541.90</td>\n",
        "    </tr>\n",
        "    <tr>\n",
        "      <th>1.00000</th>\n",
        "      <td>  665.42</td>\n",
        "      <td>  635.14</td>\n",
        "    </tr>\n",
        "    <tr>\n",
        "      <th>1.02040</th>\n",
        "      <td>  769.23</td>\n",
        "      <td>  737.93</td>\n",
        "    </tr>\n",
        "    <tr>\n",
        "      <th>1.04170</th>\n",
        "      <td>  883.76</td>\n",
        "      <td>  850.18</td>\n",
        "    </tr>\n",
        "    <tr>\n",
        "      <th>1.05260</th>\n",
        "      <td>  944.81</td>\n",
        "      <td>  909.78</td>\n",
        "    </tr>\n",
        "    <tr>\n",
        "      <th>1.06380</th>\n",
        "      <td> 1008.30</td>\n",
        "      <td>  971.66</td>\n",
        "    </tr>\n",
        "    <tr>\n",
        "      <th>1.08700</th>\n",
        "      <td> 1141.80</td>\n",
        "      <td> 1102.00</td>\n",
        "    </tr>\n",
        "    <tr>\n",
        "      <th>1.11110</th>\n",
        "      <td> 1283.40</td>\n",
        "      <td> 1240.80</td>\n",
        "    </tr>\n",
        "    <tr>\n",
        "      <th>1.14290</th>\n",
        "      <td> 1470.40</td>\n",
        "      <td> 1425.30</td>\n",
        "    </tr>\n",
        "    <tr>\n",
        "      <th>1.17650</th>\n",
        "      <td> 1667.00</td>\n",
        "      <td> 1620.80</td>\n",
        "    </tr>\n",
        "    <tr>\n",
        "      <th>1.25000</th>\n",
        "      <td> 2085.00</td>\n",
        "      <td> 2040.30</td>\n",
        "    </tr>\n",
        "    <tr>\n",
        "      <th rowspan=\"19\" valign=\"top\">1.5</th>\n",
        "      <th>0.83333</th>\n",
        "      <td>  247.60</td>\n",
        "      <td>  262.65</td>\n",
        "    </tr>\n",
        "    <tr>\n",
        "      <th>0.86956</th>\n",
        "      <td>  332.12</td>\n",
        "      <td>  349.56</td>\n",
        "    </tr>\n",
        "    <tr>\n",
        "      <th>0.88889</th>\n",
        "      <td>  385.69</td>\n",
        "      <td>  403.27</td>\n",
        "    </tr>\n",
        "    <tr>\n",
        "      <th>0.90909</th>\n",
        "      <td>  448.32</td>\n",
        "      <td>  465.40</td>\n",
        "    </tr>\n",
        "    <tr>\n",
        "      <th>0.92593</th>\n",
        "      <td>  505.69</td>\n",
        "      <td>  522.06</td>\n",
        "    </tr>\n",
        "    <tr>\n",
        "      <th>0.94340</th>\n",
        "      <td>  570.06</td>\n",
        "      <td>  585.48</td>\n",
        "    </tr>\n",
        "    <tr>\n",
        "      <th>0.95238</th>\n",
        "      <td>  605.00</td>\n",
        "      <td>  619.85</td>\n",
        "    </tr>\n",
        "    <tr>\n",
        "      <th>0.96154</th>\n",
        "      <td>  641.84</td>\n",
        "      <td>  656.06</td>\n",
        "    </tr>\n",
        "    <tr>\n",
        "      <th>0.98039</th>\n",
        "      <td>  721.36</td>\n",
        "      <td>  734.20</td>\n",
        "    </tr>\n",
        "    <tr>\n",
        "      <th>1.00000</th>\n",
        "      <td>  808.78</td>\n",
        "      <td>  820.24</td>\n",
        "    </tr>\n",
        "    <tr>\n",
        "      <th>1.02040</th>\n",
        "      <td>  904.14</td>\n",
        "      <td>  914.41</td>\n",
        "    </tr>\n",
        "    <tr>\n",
        "      <th>1.04170</th>\n",
        "      <td> 1007.40</td>\n",
        "      <td> 1016.70</td>\n",
        "    </tr>\n",
        "    <tr>\n",
        "      <th>1.05260</th>\n",
        "      <td> 1061.80</td>\n",
        "      <td> 1070.80</td>\n",
        "    </tr>\n",
        "    <tr>\n",
        "      <th>1.06380</th>\n",
        "      <td> 1118.20</td>\n",
        "      <td> 1126.80</td>\n",
        "    </tr>\n",
        "    <tr>\n",
        "      <th>1.08700</th>\n",
        "      <td> 1236.50</td>\n",
        "      <td> 1244.70</td>\n",
        "    </tr>\n",
        "    <tr>\n",
        "      <th>1.11110</th>\n",
        "      <td> 1361.70</td>\n",
        "      <td> 1370.30</td>\n",
        "    </tr>\n",
        "    <tr>\n",
        "      <th>1.14290</th>\n",
        "      <td> 1527.70</td>\n",
        "      <td> 1537.80</td>\n",
        "    </tr>\n",
        "    <tr>\n",
        "      <th>1.17650</th>\n",
        "      <td> 1703.50</td>\n",
        "      <td> 1715.70</td>\n",
        "    </tr>\n",
        "    <tr>\n",
        "      <th>1.25000</th>\n",
        "      <td> 2082.10</td>\n",
        "      <td> 2098.00</td>\n",
        "    </tr>\n",
        "    <tr>\n",
        "      <th rowspan=\"19\" valign=\"top\">2.0</th>\n",
        "      <th>0.83333</th>\n",
        "      <td>  345.31</td>\n",
        "      <td>  393.25</td>\n",
        "    </tr>\n",
        "    <tr>\n",
        "      <th>0.86956</th>\n",
        "      <td>  443.76</td>\n",
        "      <td>  487.52</td>\n",
        "    </tr>\n",
        "    <tr>\n",
        "      <th>0.88889</th>\n",
        "      <td>  503.17</td>\n",
        "      <td>  543.88</td>\n",
        "    </tr>\n",
        "    <tr>\n",
        "      <th>0.90909</th>\n",
        "      <td>  570.29</td>\n",
        "      <td>  607.72</td>\n",
        "    </tr>\n",
        "    <tr>\n",
        "      <th>0.92593</th>\n",
        "      <td>  629.96</td>\n",
        "      <td>  664.86</td>\n",
        "    </tr>\n",
        "    <tr>\n",
        "      <th>0.94340</th>\n",
        "      <td>  695.26</td>\n",
        "      <td>  727.76</td>\n",
        "    </tr>\n",
        "    <tr>\n",
        "      <th>0.95238</th>\n",
        "      <td>  730.10</td>\n",
        "      <td>  761.44</td>\n",
        "    </tr>\n",
        "    <tr>\n",
        "      <th>0.96154</th>\n",
        "      <td>  766.44</td>\n",
        "      <td>  796.66</td>\n",
        "    </tr>\n",
        "    <tr>\n",
        "      <th>0.98039</th>\n",
        "      <td>  843.71</td>\n",
        "      <td>  871.90</td>\n",
        "    </tr>\n",
        "    <tr>\n",
        "      <th>1.00000</th>\n",
        "      <td>  927.20</td>\n",
        "      <td>  953.93</td>\n",
        "    </tr>\n",
        "    <tr>\n",
        "      <th>1.02040</th>\n",
        "      <td> 1017.00</td>\n",
        "      <td> 1043.10</td>\n",
        "    </tr>\n",
        "    <tr>\n",
        "      <th>1.04170</th>\n",
        "      <td> 1113.10</td>\n",
        "      <td> 1139.30</td>\n",
        "    </tr>\n",
        "    <tr>\n",
        "      <th>1.05260</th>\n",
        "      <td> 1163.60</td>\n",
        "      <td> 1190.00</td>\n",
        "    </tr>\n",
        "    <tr>\n",
        "      <th>1.06380</th>\n",
        "      <td> 1215.60</td>\n",
        "      <td> 1242.50</td>\n",
        "    </tr>\n",
        "    <tr>\n",
        "      <th>1.08700</th>\n",
        "      <td> 1324.40</td>\n",
        "      <td> 1352.60</td>\n",
        "    </tr>\n",
        "    <tr>\n",
        "      <th>1.11110</th>\n",
        "      <td> 1439.30</td>\n",
        "      <td> 1469.60</td>\n",
        "    </tr>\n",
        "    <tr>\n",
        "      <th>1.14290</th>\n",
        "      <td> 1591.50</td>\n",
        "      <td> 1625.80</td>\n",
        "    </tr>\n",
        "    <tr>\n",
        "      <th>1.17650</th>\n",
        "      <td> 1752.90</td>\n",
        "      <td> 1792.00</td>\n",
        "    </tr>\n",
        "    <tr>\n",
        "      <th>1.25000</th>\n",
        "      <td> 2102.40</td>\n",
        "      <td> 2150.50</td>\n",
        "    </tr>\n",
        "    <tr>\n",
        "      <th rowspan=\"3\" valign=\"top\">3.0</th>\n",
        "      <th>0.83333</th>\n",
        "      <td>  512.46</td>\n",
        "      <td>  521.70</td>\n",
        "    </tr>\n",
        "    <tr>\n",
        "      <th>0.86956</th>\n",
        "      <td>  621.68</td>\n",
        "      <td>  623.02</td>\n",
        "    </tr>\n",
        "    <tr>\n",
        "      <th>0.88889</th>\n",
        "      <td>  684.30</td>\n",
        "      <td>  681.75</td>\n",
        "    </tr>\n",
        "    <tr>\n",
        "      <td></td>\n",
        "      <td></td>\n",
        "      <td>...</td>\n",
        "      <td>...</td>\n",
        "    </tr>\n",
        "  </tbody>\n",
        "</table>\n",
        "<p>152 rows \u00d7 2 columns</p>\n",
        "</div>"
       ],
       "metadata": {},
       "output_type": "pyout",
       "prompt_number": 680,
       "text": [
        "                    ModelPrice  MarketPrice\n",
        "Maturity Moneyness                         \n",
        "1.0      0.83333        151.60        87.19\n",
        "         0.86956        213.64       155.65\n",
        "         0.88889        256.13       203.38\n",
        "         0.90909        308.99       262.28\n",
        "         0.92593        360.25       318.64\n",
        "         0.94340        420.70       383.84\n",
        "         0.95238        454.68       419.85\n",
        "         0.96154        491.30       458.18\n",
        "         0.98039        572.77       541.90\n",
        "         1.00000        665.42       635.14\n",
        "         1.02040        769.23       737.93\n",
        "         1.04170        883.76       850.18\n",
        "         1.05260        944.81       909.78\n",
        "         1.06380       1008.30       971.66\n",
        "         1.08700       1141.80      1102.00\n",
        "         1.11110       1283.40      1240.80\n",
        "         1.14290       1470.40      1425.30\n",
        "         1.17650       1667.00      1620.80\n",
        "         1.25000       2085.00      2040.30\n",
        "1.5      0.83333        247.60       262.65\n",
        "         0.86956        332.12       349.56\n",
        "         0.88889        385.69       403.27\n",
        "         0.90909        448.32       465.40\n",
        "         0.92593        505.69       522.06\n",
        "         0.94340        570.06       585.48\n",
        "         0.95238        605.00       619.85\n",
        "         0.96154        641.84       656.06\n",
        "         0.98039        721.36       734.20\n",
        "         1.00000        808.78       820.24\n",
        "         1.02040        904.14       914.41\n",
        "         1.04170       1007.40      1016.70\n",
        "         1.05260       1061.80      1070.80\n",
        "         1.06380       1118.20      1126.80\n",
        "         1.08700       1236.50      1244.70\n",
        "         1.11110       1361.70      1370.30\n",
        "         1.14290       1527.70      1537.80\n",
        "         1.17650       1703.50      1715.70\n",
        "         1.25000       2082.10      2098.00\n",
        "2.0      0.83333        345.31       393.25\n",
        "         0.86956        443.76       487.52\n",
        "         0.88889        503.17       543.88\n",
        "         0.90909        570.29       607.72\n",
        "         0.92593        629.96       664.86\n",
        "         0.94340        695.26       727.76\n",
        "         0.95238        730.10       761.44\n",
        "         0.96154        766.44       796.66\n",
        "         0.98039        843.71       871.90\n",
        "         1.00000        927.20       953.93\n",
        "         1.02040       1017.00      1043.10\n",
        "         1.04170       1113.10      1139.30\n",
        "         1.05260       1163.60      1190.00\n",
        "         1.06380       1215.60      1242.50\n",
        "         1.08700       1324.40      1352.60\n",
        "         1.11110       1439.30      1469.60\n",
        "         1.14290       1591.50      1625.80\n",
        "         1.17650       1752.90      1792.00\n",
        "         1.25000       2102.40      2150.50\n",
        "3.0      0.83333        512.46       521.70\n",
        "         0.86956        621.68       623.02\n",
        "         0.88889        684.30       681.75\n",
        "                           ...          ...\n",
        "\n",
        "[152 rows x 2 columns]"
       ]
      }
     ],
     "prompt_number": 680
    },
    {
     "cell_type": "code",
     "collapsed": false,
     "input": [
      "((priceSurface_MatlabCalibrated.ModelPrice - priceSurface_MatlabCalibrated.MarketPrice)**2).sum()"
     ],
     "language": "python",
     "metadata": {},
     "outputs": [
      {
       "metadata": {},
       "output_type": "pyout",
       "prompt_number": 681,
       "text": [
        "157411.63969999985"
       ]
      }
     ],
     "prompt_number": 681
    },
    {
     "cell_type": "code",
     "collapsed": false,
     "input": [
      "#relativeDifferenceDF=abs(priceSurface_MatlabCalibrated.ModelPrice-priceSurface_MatlabCalibrated.MarketPrice)/priceSurface_MatlabCalibrated.MarketPrice*100\n",
      "maxDifferenceDF = abs(priceSurface_MatlabCalibrated.ModelPrice-priceSurface_MatlabCalibrated.MarketPrice)\n",
      "max(maxDifferenceDF)\n",
      "relativeDifferenceDF = abs(priceSurface_MatlabCalibrated.ModelPrice - priceSurface_MatlabCalibrated.MarketPrice)/priceSurface_MatlabCalibrated.MarketPrice*100"
     ],
     "language": "python",
     "metadata": {},
     "outputs": [],
     "prompt_number": 682
    },
    {
     "cell_type": "code",
     "collapsed": false,
     "input": [
      "relativeDifferenceDF"
     ],
     "language": "python",
     "metadata": {},
     "outputs": [
      {
       "metadata": {},
       "output_type": "pyout",
       "prompt_number": 683,
       "text": [
        "Maturity  Moneyness\n",
        "1         0.83333      73.873151\n",
        "          0.86956      37.256666\n",
        "          0.88889      25.936670\n",
        "          0.90909      17.809212\n",
        "          0.92593      13.058624\n",
        "          0.94340       9.602960\n",
        "          0.95238       8.295820\n",
        "          0.96154       7.228600\n",
        "          0.98039       5.696623\n",
        "          1.00000       4.767453\n",
        "          1.02040       4.241595\n",
        "          1.04170       3.949752\n",
        "          1.05260       3.850381\n",
        "          1.06380       3.770866\n",
        "          1.08700       3.611615\n",
        "...\n",
        "10        0.92593      3.308372\n",
        "          0.94340      2.721410\n",
        "          0.95238      2.427833\n",
        "          0.96154      2.132512\n",
        "          0.98039      1.555201\n",
        "          1.00000      0.995815\n",
        "          1.02040      0.454453\n",
        "          1.04170      0.073837\n",
        "          1.05260      0.343128\n",
        "          1.06380      0.612071\n",
        "          1.08700      1.152421\n",
        "          1.11110      1.688117\n",
        "          1.14290      2.319902\n",
        "          1.17650      2.912895\n",
        "          1.25000      3.947610\n",
        "Length: 152, dtype: float64"
       ]
      }
     ],
     "prompt_number": 683
    },
    {
     "cell_type": "code",
     "collapsed": false,
     "input": [
      "average(relativeDifferenceDF)"
     ],
     "language": "python",
     "metadata": {},
     "outputs": [
      {
       "metadata": {},
       "output_type": "pyout",
       "prompt_number": 684,
       "text": [
        "3.3488269860594535"
       ]
      }
     ],
     "prompt_number": 684
    },
    {
     "cell_type": "code",
     "collapsed": false,
     "input": [
      "max(relativeDifferenceDF)"
     ],
     "language": "python",
     "metadata": {},
     "outputs": [
      {
       "metadata": {},
       "output_type": "pyout",
       "prompt_number": 685,
       "text": [
        "73.873150590664068"
       ]
      }
     ],
     "prompt_number": 685
    },
    {
     "cell_type": "code",
     "collapsed": false,
     "input": [
      "\"We get a max relative difference of %d.02%% and an average relative difference of %d.02%%\" %  \\\n",
      "(max(relativeDifferenceDF),average(relativeDifferenceDF))"
     ],
     "language": "python",
     "metadata": {},
     "outputs": [
      {
       "metadata": {},
       "output_type": "pyout",
       "prompt_number": 686,
       "text": [
        "'We get a max relative difference of 73.02% and an average relative difference of 3.02%'"
       ]
      }
     ],
     "prompt_number": 686
    },
    {
     "cell_type": "code",
     "collapsed": false,
     "input": [
      "relativeDifferenceDF.describe()"
     ],
     "language": "python",
     "metadata": {},
     "outputs": [
      {
       "metadata": {},
       "output_type": "pyout",
       "prompt_number": 687,
       "text": [
        "count    152.000000\n",
        "mean       3.348827\n",
        "std        7.199514\n",
        "min        0.012932\n",
        "25%        0.769708\n",
        "50%        1.665950\n",
        "75%        3.477855\n",
        "max       73.873151\n",
        "dtype: float64"
       ]
      }
     ],
     "prompt_number": 687
    },
    {
     "cell_type": "code",
     "collapsed": false,
     "input": [
      "maxDifferenceDF.describe()"
     ],
     "language": "python",
     "metadata": {},
     "outputs": [
      {
       "metadata": {},
       "output_type": "pyout",
       "prompt_number": 688,
       "text": [
        "count    152.000000\n",
        "mean      25.369671\n",
        "std       19.864002\n",
        "min        0.200000\n",
        "25%       10.227500\n",
        "50%       20.785000\n",
        "75%       34.932500\n",
        "max      107.300000\n",
        "dtype: float64"
       ]
      }
     ],
     "prompt_number": 688
    },
    {
     "cell_type": "markdown",
     "metadata": {},
     "source": [
      "We can find out all the differences where the relative difference is greater than 2%. We notice that they are early maturities and some far dated ones. Out of 152 points 77 have an error of greater than 2%"
     ]
    },
    {
     "cell_type": "code",
     "collapsed": false,
     "input": [
      "relativeDifferenceDF[relativeDifferenceDF > 2.0]"
     ],
     "language": "python",
     "metadata": {},
     "outputs": [
      {
       "metadata": {},
       "output_type": "pyout",
       "prompt_number": 689,
       "text": [
        "Maturity  Moneyness\n",
        "1         0.83333      73.873151\n",
        "          0.86956      37.256666\n",
        "          0.88889      25.936670\n",
        "          0.90909      17.809212\n",
        "          0.92593      13.058624\n",
        "          0.94340       9.602960\n",
        "          0.95238       8.295820\n",
        "          0.96154       7.228600\n",
        "          0.98039       5.696623\n",
        "          1.00000       4.767453\n",
        "          1.02040       4.241595\n",
        "          1.04170       3.949752\n",
        "          1.05260       3.850381\n",
        "          1.06380       3.770866\n",
        "          1.08700       3.611615\n",
        "...\n",
        "5         0.86956      5.737756\n",
        "          0.88889      4.202327\n",
        "          0.90909      2.807937\n",
        "7         1.25000      3.118306\n",
        "10        0.83333      6.700756\n",
        "          0.86956      5.343565\n",
        "          0.88889      4.633024\n",
        "          0.90909      3.897096\n",
        "          0.92593      3.308372\n",
        "          0.94340      2.721410\n",
        "          0.95238      2.427833\n",
        "          0.96154      2.132512\n",
        "          1.14290      2.319902\n",
        "          1.17650      2.912895\n",
        "          1.25000      3.947610\n",
        "Length: 69, dtype: float64"
       ]
      }
     ],
     "prompt_number": 689
    },
    {
     "cell_type": "heading",
     "level": 3,
     "metadata": {},
     "source": [
      "CSharp; "
     ]
    },
    {
     "cell_type": "code",
     "collapsed": false,
     "input": [
      "index = \".AEX\" #choices include .AEX, .TOPX, .IBEX, .FTSE"
     ],
     "language": "python",
     "metadata": {},
     "outputs": [],
     "prompt_number": 690
    },
    {
     "cell_type": "code",
     "collapsed": false,
     "input": [
      "marketPriceSurface = pd.read_csv(\"C:\\\\MJD_Cali\\\\\" + index + \"_marketPrices.csv\", usecols=[8,14,17], skipfooter=1, skiprows=1, header=None)\n",
      "marketPriceSurface.columns = ['Maturity','Moneyness','Price']\n",
      "MarketPrice = marketPriceSurface.groupby(['Maturity','Moneyness']).sum()\n"
     ],
     "language": "python",
     "metadata": {},
     "outputs": [
      {
       "ename": "IOError",
       "evalue": "[Errno 2] No such file or directory: 'C:\\\\MJD_Cali\\\\.AEX_marketPrices.csv'",
       "output_type": "pyerr",
       "traceback": [
        "\u001b[1;31m---------------------------------------------------------------------------\u001b[0m\n\u001b[1;31mIOError\u001b[0m                                   Traceback (most recent call last)",
        "\u001b[1;32m<ipython-input-691-c10947688f17>\u001b[0m in \u001b[0;36m<module>\u001b[1;34m()\u001b[0m\n\u001b[1;32m----> 1\u001b[1;33m \u001b[0mmarketPriceSurface\u001b[0m \u001b[1;33m=\u001b[0m \u001b[0mpd\u001b[0m\u001b[1;33m.\u001b[0m\u001b[0mread_csv\u001b[0m\u001b[1;33m(\u001b[0m\u001b[1;34m\"C:\\\\MJD_Cali\\\\\"\u001b[0m \u001b[1;33m+\u001b[0m \u001b[0mindex\u001b[0m \u001b[1;33m+\u001b[0m \u001b[1;34m\"_marketPrices.csv\"\u001b[0m\u001b[1;33m,\u001b[0m \u001b[0musecols\u001b[0m\u001b[1;33m=\u001b[0m\u001b[1;33m[\u001b[0m\u001b[1;36m8\u001b[0m\u001b[1;33m,\u001b[0m\u001b[1;36m14\u001b[0m\u001b[1;33m,\u001b[0m\u001b[1;36m17\u001b[0m\u001b[1;33m]\u001b[0m\u001b[1;33m,\u001b[0m \u001b[0mskipfooter\u001b[0m\u001b[1;33m=\u001b[0m\u001b[1;36m1\u001b[0m\u001b[1;33m,\u001b[0m \u001b[0mskiprows\u001b[0m\u001b[1;33m=\u001b[0m\u001b[1;36m1\u001b[0m\u001b[1;33m,\u001b[0m \u001b[0mheader\u001b[0m\u001b[1;33m=\u001b[0m\u001b[0mNone\u001b[0m\u001b[1;33m)\u001b[0m\u001b[1;33m\u001b[0m\u001b[0m\n\u001b[0m\u001b[0;32m      2\u001b[0m \u001b[0mmarketPriceSurface\u001b[0m\u001b[1;33m.\u001b[0m\u001b[0mcolumns\u001b[0m \u001b[1;33m=\u001b[0m \u001b[1;33m[\u001b[0m\u001b[1;34m'Maturity'\u001b[0m\u001b[1;33m,\u001b[0m\u001b[1;34m'Moneyness'\u001b[0m\u001b[1;33m,\u001b[0m\u001b[1;34m'Price'\u001b[0m\u001b[1;33m]\u001b[0m\u001b[1;33m\u001b[0m\u001b[0m\n\u001b[0;32m      3\u001b[0m \u001b[0mMarketPrice\u001b[0m \u001b[1;33m=\u001b[0m \u001b[0mmarketPriceSurface\u001b[0m\u001b[1;33m.\u001b[0m\u001b[0mgroupby\u001b[0m\u001b[1;33m(\u001b[0m\u001b[1;33m[\u001b[0m\u001b[1;34m'Maturity'\u001b[0m\u001b[1;33m,\u001b[0m\u001b[1;34m'Moneyness'\u001b[0m\u001b[1;33m]\u001b[0m\u001b[1;33m)\u001b[0m\u001b[1;33m.\u001b[0m\u001b[0msum\u001b[0m\u001b[1;33m(\u001b[0m\u001b[1;33m)\u001b[0m\u001b[1;33m\u001b[0m\u001b[0m\n",
        "\u001b[1;32mC:\\Anaconda\\lib\\site-packages\\pandas\\io\\parsers.pyc\u001b[0m in \u001b[0;36mparser_f\u001b[1;34m(filepath_or_buffer, sep, dialect, compression, doublequote, escapechar, quotechar, quoting, skipinitialspace, lineterminator, header, index_col, names, prefix, skiprows, skipfooter, skip_footer, na_values, na_fvalues, true_values, false_values, delimiter, converters, dtype, usecols, engine, delim_whitespace, as_recarray, na_filter, compact_ints, use_unsigned, low_memory, buffer_lines, warn_bad_lines, error_bad_lines, keep_default_na, thousands, comment, decimal, parse_dates, keep_date_col, dayfirst, date_parser, memory_map, nrows, iterator, chunksize, verbose, encoding, squeeze, mangle_dupe_cols, tupleize_cols, infer_datetime_format)\u001b[0m\n\u001b[0;32m    418\u001b[0m                     infer_datetime_format=infer_datetime_format)\n\u001b[0;32m    419\u001b[0m \u001b[1;33m\u001b[0m\u001b[0m\n\u001b[1;32m--> 420\u001b[1;33m         \u001b[1;32mreturn\u001b[0m \u001b[0m_read\u001b[0m\u001b[1;33m(\u001b[0m\u001b[0mfilepath_or_buffer\u001b[0m\u001b[1;33m,\u001b[0m \u001b[0mkwds\u001b[0m\u001b[1;33m)\u001b[0m\u001b[1;33m\u001b[0m\u001b[0m\n\u001b[0m\u001b[0;32m    421\u001b[0m \u001b[1;33m\u001b[0m\u001b[0m\n\u001b[0;32m    422\u001b[0m     \u001b[0mparser_f\u001b[0m\u001b[1;33m.\u001b[0m\u001b[0m__name__\u001b[0m \u001b[1;33m=\u001b[0m \u001b[0mname\u001b[0m\u001b[1;33m\u001b[0m\u001b[0m\n",
        "\u001b[1;32mC:\\Anaconda\\lib\\site-packages\\pandas\\io\\parsers.pyc\u001b[0m in \u001b[0;36m_read\u001b[1;34m(filepath_or_buffer, kwds)\u001b[0m\n\u001b[0;32m    216\u001b[0m \u001b[1;33m\u001b[0m\u001b[0m\n\u001b[0;32m    217\u001b[0m     \u001b[1;31m# Create the parser.\u001b[0m\u001b[1;33m\u001b[0m\u001b[1;33m\u001b[0m\u001b[0m\n\u001b[1;32m--> 218\u001b[1;33m     \u001b[0mparser\u001b[0m \u001b[1;33m=\u001b[0m \u001b[0mTextFileReader\u001b[0m\u001b[1;33m(\u001b[0m\u001b[0mfilepath_or_buffer\u001b[0m\u001b[1;33m,\u001b[0m \u001b[1;33m**\u001b[0m\u001b[0mkwds\u001b[0m\u001b[1;33m)\u001b[0m\u001b[1;33m\u001b[0m\u001b[0m\n\u001b[0m\u001b[0;32m    219\u001b[0m \u001b[1;33m\u001b[0m\u001b[0m\n\u001b[0;32m    220\u001b[0m     \u001b[1;32mif\u001b[0m \u001b[0mnrows\u001b[0m \u001b[1;32mis\u001b[0m \u001b[1;32mnot\u001b[0m \u001b[0mNone\u001b[0m\u001b[1;33m:\u001b[0m\u001b[1;33m\u001b[0m\u001b[0m\n",
        "\u001b[1;32mC:\\Anaconda\\lib\\site-packages\\pandas\\io\\parsers.pyc\u001b[0m in \u001b[0;36m__init__\u001b[1;34m(self, f, engine, **kwds)\u001b[0m\n\u001b[0;32m    500\u001b[0m             \u001b[0mself\u001b[0m\u001b[1;33m.\u001b[0m\u001b[0moptions\u001b[0m\u001b[1;33m[\u001b[0m\u001b[1;34m'has_index_names'\u001b[0m\u001b[1;33m]\u001b[0m \u001b[1;33m=\u001b[0m \u001b[0mkwds\u001b[0m\u001b[1;33m[\u001b[0m\u001b[1;34m'has_index_names'\u001b[0m\u001b[1;33m]\u001b[0m\u001b[1;33m\u001b[0m\u001b[0m\n\u001b[0;32m    501\u001b[0m \u001b[1;33m\u001b[0m\u001b[0m\n\u001b[1;32m--> 502\u001b[1;33m         \u001b[0mself\u001b[0m\u001b[1;33m.\u001b[0m\u001b[0m_make_engine\u001b[0m\u001b[1;33m(\u001b[0m\u001b[0mself\u001b[0m\u001b[1;33m.\u001b[0m\u001b[0mengine\u001b[0m\u001b[1;33m)\u001b[0m\u001b[1;33m\u001b[0m\u001b[0m\n\u001b[0m\u001b[0;32m    503\u001b[0m \u001b[1;33m\u001b[0m\u001b[0m\n\u001b[0;32m    504\u001b[0m     \u001b[1;32mdef\u001b[0m \u001b[0m_get_options_with_defaults\u001b[0m\u001b[1;33m(\u001b[0m\u001b[0mself\u001b[0m\u001b[1;33m,\u001b[0m \u001b[0mengine\u001b[0m\u001b[1;33m)\u001b[0m\u001b[1;33m:\u001b[0m\u001b[1;33m\u001b[0m\u001b[0m\n",
        "\u001b[1;32mC:\\Anaconda\\lib\\site-packages\\pandas\\io\\parsers.pyc\u001b[0m in \u001b[0;36m_make_engine\u001b[1;34m(self, engine)\u001b[0m\n\u001b[0;32m    614\u001b[0m             \u001b[1;32melif\u001b[0m \u001b[0mengine\u001b[0m \u001b[1;33m==\u001b[0m \u001b[1;34m'python-fwf'\u001b[0m\u001b[1;33m:\u001b[0m\u001b[1;33m\u001b[0m\u001b[0m\n\u001b[0;32m    615\u001b[0m                 \u001b[0mklass\u001b[0m \u001b[1;33m=\u001b[0m \u001b[0mFixedWidthFieldParser\u001b[0m\u001b[1;33m\u001b[0m\u001b[0m\n\u001b[1;32m--> 616\u001b[1;33m             \u001b[0mself\u001b[0m\u001b[1;33m.\u001b[0m\u001b[0m_engine\u001b[0m \u001b[1;33m=\u001b[0m \u001b[0mklass\u001b[0m\u001b[1;33m(\u001b[0m\u001b[0mself\u001b[0m\u001b[1;33m.\u001b[0m\u001b[0mf\u001b[0m\u001b[1;33m,\u001b[0m \u001b[1;33m**\u001b[0m\u001b[0mself\u001b[0m\u001b[1;33m.\u001b[0m\u001b[0moptions\u001b[0m\u001b[1;33m)\u001b[0m\u001b[1;33m\u001b[0m\u001b[0m\n\u001b[0m\u001b[0;32m    617\u001b[0m \u001b[1;33m\u001b[0m\u001b[0m\n\u001b[0;32m    618\u001b[0m     \u001b[1;32mdef\u001b[0m \u001b[0m_failover_to_python\u001b[0m\u001b[1;33m(\u001b[0m\u001b[0mself\u001b[0m\u001b[1;33m)\u001b[0m\u001b[1;33m:\u001b[0m\u001b[1;33m\u001b[0m\u001b[0m\n",
        "\u001b[1;32mC:\\Anaconda\\lib\\site-packages\\pandas\\io\\parsers.pyc\u001b[0m in \u001b[0;36m__init__\u001b[1;34m(self, f, **kwds)\u001b[0m\n\u001b[0;32m   1283\u001b[0m         \u001b[1;32mif\u001b[0m \u001b[0misinstance\u001b[0m\u001b[1;33m(\u001b[0m\u001b[0mf\u001b[0m\u001b[1;33m,\u001b[0m \u001b[0mcompat\u001b[0m\u001b[1;33m.\u001b[0m\u001b[0mstring_types\u001b[0m\u001b[1;33m)\u001b[0m\u001b[1;33m:\u001b[0m\u001b[1;33m\u001b[0m\u001b[0m\n\u001b[0;32m   1284\u001b[0m             f = com._get_handle(f, 'r', encoding=self.encoding,\n\u001b[1;32m-> 1285\u001b[1;33m                                 compression=self.compression)\n\u001b[0m\u001b[0;32m   1286\u001b[0m         \u001b[1;32melif\u001b[0m \u001b[0mself\u001b[0m\u001b[1;33m.\u001b[0m\u001b[0mcompression\u001b[0m\u001b[1;33m:\u001b[0m\u001b[1;33m\u001b[0m\u001b[0m\n\u001b[0;32m   1287\u001b[0m             \u001b[0mf\u001b[0m \u001b[1;33m=\u001b[0m \u001b[0m_wrap_compressed\u001b[0m\u001b[1;33m(\u001b[0m\u001b[0mf\u001b[0m\u001b[1;33m,\u001b[0m \u001b[0mself\u001b[0m\u001b[1;33m.\u001b[0m\u001b[0mcompression\u001b[0m\u001b[1;33m,\u001b[0m \u001b[0mself\u001b[0m\u001b[1;33m.\u001b[0m\u001b[0mencoding\u001b[0m\u001b[1;33m)\u001b[0m\u001b[1;33m\u001b[0m\u001b[0m\n",
        "\u001b[1;32mC:\\Anaconda\\lib\\site-packages\\pandas\\core\\common.pyc\u001b[0m in \u001b[0;36m_get_handle\u001b[1;34m(path, mode, encoding, compression)\u001b[0m\n\u001b[0;32m   2312\u001b[0m                 \u001b[0mf\u001b[0m \u001b[1;33m=\u001b[0m \u001b[0mopen\u001b[0m\u001b[1;33m(\u001b[0m\u001b[0mpath\u001b[0m\u001b[1;33m,\u001b[0m \u001b[0mmode\u001b[0m\u001b[1;33m,\u001b[0m \u001b[0merrors\u001b[0m\u001b[1;33m=\u001b[0m\u001b[1;34m'replace'\u001b[0m\u001b[1;33m)\u001b[0m\u001b[1;33m\u001b[0m\u001b[0m\n\u001b[0;32m   2313\u001b[0m         \u001b[1;32melse\u001b[0m\u001b[1;33m:\u001b[0m\u001b[1;33m\u001b[0m\u001b[0m\n\u001b[1;32m-> 2314\u001b[1;33m             \u001b[0mf\u001b[0m \u001b[1;33m=\u001b[0m \u001b[0mopen\u001b[0m\u001b[1;33m(\u001b[0m\u001b[0mpath\u001b[0m\u001b[1;33m,\u001b[0m \u001b[0mmode\u001b[0m\u001b[1;33m)\u001b[0m\u001b[1;33m\u001b[0m\u001b[0m\n\u001b[0m\u001b[0;32m   2315\u001b[0m \u001b[1;33m\u001b[0m\u001b[0m\n\u001b[0;32m   2316\u001b[0m     \u001b[1;32mreturn\u001b[0m \u001b[0mf\u001b[0m\u001b[1;33m\u001b[0m\u001b[0m\n",
        "\u001b[1;31mIOError\u001b[0m: [Errno 2] No such file or directory: 'C:\\\\MJD_Cali\\\\.AEX_marketPrices.csv'"
       ]
      }
     ],
     "prompt_number": 691
    },
    {
     "cell_type": "code",
     "collapsed": false,
     "input": [
      "modelPriceSurface = pd.read_csv(\"C:\\\\MJD_Cali\\\\\" + index + \"_modelPrices.csv\", usecols=[8,14,17], skipfooter=1, skiprows=1, header=None)\n",
      "modelPriceSurface.columns = ['Maturity','Moneyness','Price']\n",
      "ModelPrice = modelPriceSurface.groupby(['Maturity','Moneyness']).sum()"
     ],
     "language": "python",
     "metadata": {},
     "outputs": []
    },
    {
     "cell_type": "code",
     "collapsed": false,
     "input": [
      "relativeDifference = abs(MarketPrice - ModelPrice)/ModelPrice*100\n",
      "relativeDifference = relativeDifference.dropna()\n",
      "\n",
      "absoluteDifference = abs(MarketPrice - ModelPrice)"
     ],
     "language": "python",
     "metadata": {},
     "outputs": []
    },
    {
     "cell_type": "code",
     "collapsed": false,
     "input": [
      "MarketPrice"
     ],
     "language": "python",
     "metadata": {},
     "outputs": []
    },
    {
     "cell_type": "code",
     "collapsed": false,
     "input": [
      "\n",
      "average(relativeDifference.Price)"
     ],
     "language": "python",
     "metadata": {},
     "outputs": []
    },
    {
     "cell_type": "code",
     "collapsed": false,
     "input": [
      "max(relativeDifference.Price)"
     ],
     "language": "python",
     "metadata": {},
     "outputs": []
    },
    {
     "cell_type": "heading",
     "level": 3,
     "metadata": {},
     "source": [
      "Calibration by Term Structure"
     ]
    },
    {
     "cell_type": "code",
     "collapsed": false,
     "input": [
      "Term = \"1Yto10Y\"\n",
      "index = \".AEX\"\n",
      "marketPriceSurface = pd.read_csv(\"C:\\\\MJD_Cali\\\\\" + Term + \"\\\\\" + index + \"_marketPrices.csv\", usecols=[8,14,17], skipfooter=1, skiprows=1, header=None)\n",
      "marketPriceSurface.columns = ['Maturity','Moneyness','Price']\n",
      "MarketPrice = marketPriceSurface.groupby(['Maturity','Moneyness']).sum()"
     ],
     "language": "python",
     "metadata": {},
     "outputs": [],
     "prompt_number": 692
    },
    {
     "cell_type": "code",
     "collapsed": false,
     "input": [
      "modelPriceSurface = pd.read_csv(\"C:\\\\MJD_Cali\\\\\" + Term + \"\\\\\" + index + \"_modelPrices.csv\", usecols=[8,14,17], skipfooter=1, skiprows=1, header=None)\n",
      "modelPriceSurface.columns = ['Maturity','Moneyness','Price']\n",
      "ModelPrice = modelPriceSurface.groupby(['Maturity','Moneyness']).sum()"
     ],
     "language": "python",
     "metadata": {},
     "outputs": [],
     "prompt_number": 693
    },
    {
     "cell_type": "code",
     "collapsed": false,
     "input": [
      "relativeDifference = abs(MarketPrice - ModelPrice)/ModelPrice*100\n",
      "relativeDifference = relativeDifference.dropna()\n",
      "\n",
      "absoluteDifference = abs(MarketPrice - ModelPrice)"
     ],
     "language": "python",
     "metadata": {},
     "outputs": [],
     "prompt_number": 694
    },
    {
     "cell_type": "markdown",
     "metadata": {},
     "source": [
      "We want to see all the errors above 2.0%"
     ]
    },
    {
     "cell_type": "code",
     "collapsed": false,
     "input": [
      "MarketPrice.to_csv(\"AEXMarket.csv\")"
     ],
     "language": "python",
     "metadata": {},
     "outputs": [],
     "prompt_number": 699
    },
    {
     "cell_type": "code",
     "collapsed": false,
     "input": [
      "ModelPrice.Price.to_csv(\"AEXModel.csv\")\n"
     ],
     "language": "python",
     "metadata": {},
     "outputs": [],
     "prompt_number": 701
    }
   ],
   "metadata": {}
  }
 ]
}