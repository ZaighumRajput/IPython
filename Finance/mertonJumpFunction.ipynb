{
 "metadata": {
  "name": "",
  "signature": "sha256:3b57664549dbf4196a8153d4a4195d6500f1aea9cd53a409400e62eb19ec7207"
 },
 "nbformat": 3,
 "nbformat_minor": 0,
 "worksheets": [
  {
   "cells": [
    {
     "cell_type": "heading",
     "level": 1,
     "metadata": {},
     "source": [
      "Comparison of MJD model "
     ]
    },
    {
     "cell_type": "heading",
     "level": 4,
     "metadata": {},
     "source": [
      "We will test the integrity of calibration by comparing the prices obtained by our calibrated model; that is using the calibrated parameters from the legacy Matlab tool and the newer version in ESG library. "
     ]
    },
    {
     "cell_type": "heading",
     "level": 4,
     "metadata": {},
     "source": [
      "The following implements two functions:\n",
      "\n",
      "Merton Jump Diffusion price for a call $$ p = MJD( \\lambda, \\mu_j, \\sigma_k, \\sigma, S, J, T, r, q)  = \\sum_{n=0}^{n=50} \\frac{(\\lambda^1 T)^n}{n!} e^{\\lambda^1 T} BS(S, K, T, \\sigma_n, r_n, q )$$\n",
      " where:\n",
      "$$\\sigma_k = \\sqrt{\\sigma^2 + \\frac{k}{T}\\sigma_j^2} $$\n",
      " $$\\lambda^1 = \\lambda_j * (1 + \\mu_j) $$\n",
      " $$r_n = r - \\lambda_n * \\mu_j + \\frac{n}{T} * log(1 + \\mu_j) $$\n",
      "and \n",
      "standard BlackScholes "
     ]
    },
    {
     "cell_type": "code",
     "collapsed": false,
     "input": [
      "import numpy as np\n",
      "from math import *\n",
      "from __future__ import division \n",
      "\n",
      "\n",
      "def CND(X):\n",
      "    '''Cumulative Distribution Function\n",
      "    '''\n",
      "    (a1,a2,a3,a4,a5) = (0.31938153, -0.356563782, 1.781477937, -1.821255978, 1.330274429)\n",
      "    L = abs(X)\n",
      "    K = 1.0 / (1.0 + 0.2316419 * L)\n",
      "    w = 1.0 - 1.0 / sqrt(2*pi)*exp(-L*L/2.) * (a1*K + a2*K*K + a3*pow(K,3) +\n",
      "    a4*pow(K,4) + a5*pow(K,5))\n",
      "    if X<0:\n",
      "        w = 1.0-w\n",
      "    return w\n",
      "def BlackScholes(S,X,T,r,q,v):\n",
      "    '''Simple BlackScholes; only calls\n",
      "    '''\n",
      "    d1 = (np.log(S/X)+(r-q+v*v/2.0)*T)/(v*np.sqrt(T))\n",
      "    d2 = d1-v*np.sqrt(T)\n",
      "    return (S*np.exp(-q*T)*CND(d1)-X*np.exp(-r*T)*CND(d2))\n",
      "    \n",
      "def MJDCall(jumpIntensity, jumpMean, jumpVol, sigma, r, q, T, S, K):\n",
      "    '''Call option price under Merton Jump Diffusion\n",
      "    '''\n",
      "    lambdaPrime = jumpIntensity*(1+jumpMean)\n",
      "    call = 0;\n",
      "    print lambdaPrime\n",
      "    for i in range(0,50):\n",
      "        sigma_n = np.sqrt(sigma**2 + (i/T)*jumpVol**2)\n",
      "        \n",
      "        r_n = r - jumpIntensity*jumpMean + i*np.log(1 + jumpMean)/T\n",
      "        #if(Debug):\n",
      "          #  print \"k is % sigma_n is % and r_n is %\", i,sigma_n, r_n\n",
      "          #  print \"exp %\", exp(-lambdaPrime*T)\n",
      "          #  print \"lam to i %\",(lambdaPrime*T)**i\n",
      "          #  print \"fac %\",(factorial(i))\n",
      "          #  print BlackScholes(S,K,T,r_n,q,sigma_n)\n",
      "        \n",
      "        call += (((lambdaPrime*T)**i)/(factorial(i)))*np.exp(-lambdaPrime*T)*BlackScholes(S,K,T,r_n,q,sigma_n)\n",
      "        #print call\n",
      "    return call\n",
      "\n",
      "class TestCasesforMJDCall:\n",
      "    \n",
      "    t1 = 1.0\n",
      "    t10 = 10.0\n",
      "    r1 = 0.03\n",
      "    r10 = 0.05\n",
      "        \n",
      "    q1 = 0.03\n",
      "    q10 = 0.05\n",
      "        \n",
      "    vol1 = 0.03\n",
      "    vol10 = 0.03\n",
      "        \n",
      "    spotPriceA = 100\n",
      "    moneynessA = 1\n",
      "    maturityA = 1\n",
      "                    \n",
      "    spotPriceB = 100\n",
      "    moneynessB = 0.8\n",
      "    maturityB = 10\n",
      "    \n",
      "    def functionTests(self, parameters):\n",
      "        jumpIntensity = parameters[0];\n",
      "        jumpMean = parameters[1];\n",
      "        jumpVol = parameters[2];\n",
      "        vol = parameters[3];\n",
      "        \n",
      "        print MJDCall(jumpIntensity, jumpMean, jumpVol, vol, \\\n",
      "                        self.r1, self.q1, self.t1, self.spotPriceA, self.spotPriceA/self.moneynessA)\n",
      "        \n",
      "       # print BlackScholes(self.spotPriceA,self.spotPriceA/self.moneynessA,self.t1,self.r1,self.q1,vol)\n",
      "        \n",
      "\n",
      "       # assert MJDCall(jumpIntensity, jumpMean, jumpVol, vol, \\\n",
      "        #    self.r1, self.q1, self.t1, self.spotPriceA, self.spotPriceA/self.moneynessA) == \\\n",
      "        #    BlackScholes(self.spotPriceA,self.spotPriceA/self.moneynessA,self.t1,self.r1,self.q1,vol)\n",
      "\t\n",
      "\t\t#assert MJDCall(jumpIntensity, jumpMean, jumpVol, vol, \\\n",
      "\t\t#\t\t\tself.r1, self.y1, self.t1, self.spotPriceA, self.spotPriceA/self.moneynessA) == \\\n",
      "\t\t#\t\t\tBlackScholes(callPutFlag,self.spotPriceA,self.spotPriceA/self.moneynessA,self.t1,self.r1,vol)\n",
      "\t\n",
      "\t\t#assert MJDCall(jumpIntensity, jumpMean, jumpVol, vol, \\\n",
      "\t\t#\t\t\tself.r1, self.y1, self.t1, self.spotPriceA, self.spotPriceA/self.moneynessA) == \\\n",
      "\t\t#\t\t\tBlackScholes(callPutFlag,self.spotPriceA,self.spotPriceA/self.moneynessA,self.t1,self.r1,vol)\n",
      "\n",
      "        \n",
      "    #def test_NoJumpProcess(self):\n",
      "    #    a = TestCasesforMJDCall()\n",
      "    #    a.functionTests(np.array([0,0,0,0.25]))\n",
      "\n",
      "\t#def test_NoJumpProcess(self):\n",
      "\t#\tparameters = np.array([0,0,0,0.25])\n",
      "\t#\tassert MJDCall(0,0,0,0.25,0.03,0,1,1,1) == 0\n",
      "\t#\tassert parameters[self.t1] == 0\n",
      "\t#\tjumpIntensity = parameters[0]\n",
      "\t#\tjumpMean = parameters[1]\n",
      "\t#\tjumpVol = parameters[2]\n",
      "\t#\tvol = parameters[3]\n",
      "\t\t#assert MJDCall(0,0,0,0.25, self.r1, self.y1, self.t1, self.spotPriceA, self.spotPriceA/self.moneynessA) == 5\n",
      "\t\t\n",
      "    \t#assert MJDCall(jumpIntensity, jumpMean, jumpVol, vol,\n",
      "        #           r1,y1,t1,spotPriceA, SpotPriceA/moneynessA) == \\\n",
      "        #   BlackScholes(1,spotPriceA,spotPriceA/moneynessA,t1,r1,vol)\n",
      "    \t#assert MJDCall(parameters[0], parameters[1], parameters[2], parameters[3],\n",
      "    \t#\t\t\tr2,y1, t1, spotPriceB, spotPriceB/moneynessB) == \\\n",
      "    \t#\t\t\tBlackScholes(1,spotPriceA,spotPriceA/moneynessA,t1,r1,parameters[3])"
     ],
     "language": "python",
     "metadata": {},
     "outputs": [],
     "prompt_number": 139
    },
    {
     "cell_type": "code",
     "collapsed": false,
     "input": [
      "\n",
      "print BlackScholes(100,102,2,0.05,0.05,0.25)\n",
      "\n",
      "a = TestCasesforMJDCall()\n",
      "#a.functionTests([0,0,0,0.25])\n",
      "a.functionTests([0.5, 0.5, 0.5, 0.25])\n"
     ],
     "language": "python",
     "metadata": {},
     "outputs": [
      {
       "output_type": "stream",
       "stream": "stdout",
       "text": [
        "11.9383608864\n",
        "0.75\n",
        "19.9658390048\n"
       ]
      }
     ],
     "prompt_number": 177
    },
    {
     "cell_type": "heading",
     "level": 4,
     "metadata": {},
     "source": [
      "We first organize the calibrated parameters from both of our tools. \n",
      "The calibration was done on 1Y and 19 different strikes (-20% to 20%). So in total of 19 points."
     ]
    },
    {
     "cell_type": "code",
     "collapsed": false,
     "input": [
      "import pandas as pd"
     ],
     "language": "python",
     "metadata": {},
     "outputs": [],
     "prompt_number": 141
    },
    {
     "cell_type": "code",
     "collapsed": false,
     "input": [
      "parameterNames = ['jumpIntensity', 'jumpMean', 'jumpVol', 'vol']\n",
      "indexNames = ['AEX', 'IBEX', 'TOPX', 'FTSE']"
     ],
     "language": "python",
     "metadata": {},
     "outputs": [],
     "prompt_number": 142
    },
    {
     "cell_type": "code",
     "collapsed": false,
     "input": [
      "calibValuesCSharp = [[ 0.20198608,\t-0.254267161,\t0.046407838,\t0.096676606],\t\t\n",
      "                    [0.441440266,\t-0.204915812,\t0.091882019\t,0.126625648],\t\t\t\n",
      "                    [0.187498301,\t-0.057665506,\t0.3019463,\t0.147861008],\t\t\t\n",
      "                    [0.200665135,\t-0.240872983,\t0.075736307,\t0.084150369\t]]\n",
      "calibratedValuesCSharpDF = pd.DataFrame(calibValuesCSharp, columns =indexNames, index = parameterNames)"
     ],
     "language": "python",
     "metadata": {},
     "outputs": [],
     "prompt_number": 143
    },
    {
     "cell_type": "code",
     "collapsed": false,
     "input": [
      "calibValuesMatlab = [[0.2047,\t-0.2523,\t0.0495,\t0.0964],\n",
      "[0.4377,\t-0.2062,\t0.09,\t0.1265],\n",
      "[0.2041,\t-0.0545,\t0.29,\t0.1466],\n",
      "[0.2046,\t-0.2384,\t0.0777,\t0.0838]]\n",
      "calibratedValuesMatlabDF = pd.DataFrame(calibValuesMatlab, columns =indexNames, index = parameterNames)"
     ],
     "language": "python",
     "metadata": {},
     "outputs": [],
     "prompt_number": 144
    },
    {
     "cell_type": "code",
     "collapsed": false,
     "input": [
      "calibratedValuesMatlabDF"
     ],
     "language": "python",
     "metadata": {},
     "outputs": [
      {
       "html": [
        "<div style=\"max-height:1000px;max-width:1500px;overflow:auto;\">\n",
        "<table border=\"1\" class=\"dataframe\">\n",
        "  <thead>\n",
        "    <tr style=\"text-align: right;\">\n",
        "      <th></th>\n",
        "      <th>AEX</th>\n",
        "      <th>IBEX</th>\n",
        "      <th>TOPX</th>\n",
        "      <th>FTSE</th>\n",
        "    </tr>\n",
        "  </thead>\n",
        "  <tbody>\n",
        "    <tr>\n",
        "      <th>jumpIntensity</th>\n",
        "      <td> 0.2047</td>\n",
        "      <td>-0.2523</td>\n",
        "      <td> 0.0495</td>\n",
        "      <td> 0.0964</td>\n",
        "    </tr>\n",
        "    <tr>\n",
        "      <th>jumpMean</th>\n",
        "      <td> 0.4377</td>\n",
        "      <td>-0.2062</td>\n",
        "      <td> 0.0900</td>\n",
        "      <td> 0.1265</td>\n",
        "    </tr>\n",
        "    <tr>\n",
        "      <th>jumpVol</th>\n",
        "      <td> 0.2041</td>\n",
        "      <td>-0.0545</td>\n",
        "      <td> 0.2900</td>\n",
        "      <td> 0.1466</td>\n",
        "    </tr>\n",
        "    <tr>\n",
        "      <th>vol</th>\n",
        "      <td> 0.2046</td>\n",
        "      <td>-0.2384</td>\n",
        "      <td> 0.0777</td>\n",
        "      <td> 0.0838</td>\n",
        "    </tr>\n",
        "  </tbody>\n",
        "</table>\n",
        "<p>4 rows \u00d7 4 columns</p>\n",
        "</div>"
       ],
       "metadata": {},
       "output_type": "pyout",
       "prompt_number": 145,
       "text": [
        "                  AEX    IBEX    TOPX    FTSE\n",
        "jumpIntensity  0.2047 -0.2523  0.0495  0.0964\n",
        "jumpMean       0.4377 -0.2062  0.0900  0.1265\n",
        "jumpVol        0.2041 -0.0545  0.2900  0.1466\n",
        "vol            0.2046 -0.2384  0.0777  0.0838\n",
        "\n",
        "[4 rows x 4 columns]"
       ]
      }
     ],
     "prompt_number": 145
    },
    {
     "cell_type": "heading",
     "level": 3,
     "metadata": {},
     "source": [
      "MarketVolatilities"
     ]
    },
    {
     "cell_type": "heading",
     "level": 4,
     "metadata": {},
     "source": [
      "We also set up the observed volatilities"
     ]
    },
    {
     "cell_type": "code",
     "collapsed": false,
     "input": [
      "eqVol = pd.read_csv(\"default_option_weights.csv\")\n",
      "eqVolDF = pd.DataFrame(eqVol)"
     ],
     "language": "python",
     "metadata": {},
     "outputs": [],
     "prompt_number": 146
    },
    {
     "cell_type": "code",
     "collapsed": false,
     "input": [
      "tuples = list(zip(eqVolDF['Maturity'], eqVolDF['AEX'], eqVolDF['FTSE'], eqVolDF['IBEX'], eqVolDF['TOPX']))"
     ],
     "language": "python",
     "metadata": {},
     "outputs": [],
     "prompt_number": 147
    },
    {
     "cell_type": "code",
     "collapsed": false,
     "input": [
      "listo = list(zip(eqVolDF['Maturity'], eqVolDF['Moneyness']))\n",
      "multiOptionIndex = pd.MultiIndex.from_tuples(listo, names = ['Maturity', 'Moneyness'])"
     ],
     "language": "python",
     "metadata": {},
     "outputs": [],
     "prompt_number": 148
    },
    {
     "cell_type": "code",
     "collapsed": false,
     "input": [
      "eqMarketVolsDF = pd.DataFrame(tuples, index=multiOptionIndex, columns=['Weight','AEX', 'FTSE', 'IBEX', 'TOPX'])\n",
      "eqMarketVolsDF = eqMarketVolsDF.drop('Weight',1)"
     ],
     "language": "python",
     "metadata": {},
     "outputs": [],
     "prompt_number": 149
    },
    {
     "cell_type": "code",
     "collapsed": false,
     "input": [
      "eqMarketVolsDF"
     ],
     "language": "python",
     "metadata": {},
     "outputs": [
      {
       "html": [
        "<div style=\"max-height:1000px;max-width:1500px;overflow:auto;\">\n",
        "<table border=\"1\" class=\"dataframe\">\n",
        "  <thead>\n",
        "    <tr style=\"text-align: right;\">\n",
        "      <th></th>\n",
        "      <th></th>\n",
        "      <th>AEX</th>\n",
        "      <th>FTSE</th>\n",
        "      <th>IBEX</th>\n",
        "      <th>TOPX</th>\n",
        "    </tr>\n",
        "    <tr>\n",
        "      <th>Maturity</th>\n",
        "      <th>Moneyness</th>\n",
        "      <th></th>\n",
        "      <th></th>\n",
        "      <th></th>\n",
        "      <th></th>\n",
        "    </tr>\n",
        "  </thead>\n",
        "  <tbody>\n",
        "    <tr>\n",
        "      <th rowspan=\"19\" valign=\"top\">1</th>\n",
        "      <th>1.250000</th>\n",
        "      <td> 0.1930</td>\n",
        "      <td> 0.1858</td>\n",
        "      <td> 0.2235</td>\n",
        "      <td> 0.2036</td>\n",
        "    </tr>\n",
        "    <tr>\n",
        "      <th>1.176471</th>\n",
        "      <td> 0.1804</td>\n",
        "      <td> 0.1714</td>\n",
        "      <td> 0.2148</td>\n",
        "      <td> 0.1946</td>\n",
        "    </tr>\n",
        "    <tr>\n",
        "      <th>1.142857</th>\n",
        "      <td> 0.1740</td>\n",
        "      <td> 0.1640</td>\n",
        "      <td> 0.2102</td>\n",
        "      <td> 0.1910</td>\n",
        "    </tr>\n",
        "    <tr>\n",
        "      <th>1.111111</th>\n",
        "      <td> 0.1675</td>\n",
        "      <td> 0.1564</td>\n",
        "      <td> 0.2056</td>\n",
        "      <td> 0.1878</td>\n",
        "    </tr>\n",
        "    <tr>\n",
        "      <th>1.086957</th>\n",
        "      <td> 0.1621</td>\n",
        "      <td> 0.1502</td>\n",
        "      <td> 0.2020</td>\n",
        "      <td> 0.1858</td>\n",
        "    </tr>\n",
        "    <tr>\n",
        "      <th>1.063830</th>\n",
        "      <td> 0.1567</td>\n",
        "      <td> 0.1439</td>\n",
        "      <td> 0.1984</td>\n",
        "      <td> 0.1841</td>\n",
        "    </tr>\n",
        "    <tr>\n",
        "      <th>1.052632</th>\n",
        "      <td> 0.1540</td>\n",
        "      <td> 0.1408</td>\n",
        "      <td> 0.1967</td>\n",
        "      <td> 0.1834</td>\n",
        "    </tr>\n",
        "    <tr>\n",
        "      <th>1.041667</th>\n",
        "      <td> 0.1514</td>\n",
        "      <td> 0.1377</td>\n",
        "      <td> 0.1950</td>\n",
        "      <td> 0.1828</td>\n",
        "    </tr>\n",
        "    <tr>\n",
        "      <th>1.020408</th>\n",
        "      <td> 0.1464</td>\n",
        "      <td> 0.1319</td>\n",
        "      <td> 0.1917</td>\n",
        "      <td> 0.1818</td>\n",
        "    </tr>\n",
        "    <tr>\n",
        "      <th>1.000000</th>\n",
        "      <td> 0.1417</td>\n",
        "      <td> 0.1265</td>\n",
        "      <td> 0.1885</td>\n",
        "      <td> 0.1812</td>\n",
        "    </tr>\n",
        "    <tr>\n",
        "      <th>0.980392</th>\n",
        "      <td> 0.1375</td>\n",
        "      <td> 0.1219</td>\n",
        "      <td> 0.1855</td>\n",
        "      <td> 0.1809</td>\n",
        "    </tr>\n",
        "    <tr>\n",
        "      <th>0.961538</th>\n",
        "      <td> 0.1337</td>\n",
        "      <td> 0.1180</td>\n",
        "      <td> 0.1825</td>\n",
        "      <td> 0.1809</td>\n",
        "    </tr>\n",
        "    <tr>\n",
        "      <th>0.952381</th>\n",
        "      <td> 0.1321</td>\n",
        "      <td> 0.1164</td>\n",
        "      <td> 0.1811</td>\n",
        "      <td> 0.1810</td>\n",
        "    </tr>\n",
        "    <tr>\n",
        "      <th>0.943396</th>\n",
        "      <td> 0.1307</td>\n",
        "      <td> 0.1150</td>\n",
        "      <td> 0.1798</td>\n",
        "      <td> 0.1811</td>\n",
        "    </tr>\n",
        "    <tr>\n",
        "      <th>0.925926</th>\n",
        "      <td> 0.1283</td>\n",
        "      <td> 0.1127</td>\n",
        "      <td> 0.1772</td>\n",
        "      <td> 0.1815</td>\n",
        "    </tr>\n",
        "    <tr>\n",
        "      <th>0.909091</th>\n",
        "      <td> 0.1263</td>\n",
        "      <td> 0.1109</td>\n",
        "      <td> 0.1748</td>\n",
        "      <td> 0.1820</td>\n",
        "    </tr>\n",
        "    <tr>\n",
        "      <th>0.888889</th>\n",
        "      <td> 0.1243</td>\n",
        "      <td> 0.1093</td>\n",
        "      <td> 0.1721</td>\n",
        "      <td> 0.1828</td>\n",
        "    </tr>\n",
        "    <tr>\n",
        "      <th>0.869565</th>\n",
        "      <td> 0.1227</td>\n",
        "      <td> 0.1085</td>\n",
        "      <td> 0.1698</td>\n",
        "      <td> 0.1836</td>\n",
        "    </tr>\n",
        "    <tr>\n",
        "      <th>0.833333</th>\n",
        "      <td> 0.1212</td>\n",
        "      <td> 0.1100</td>\n",
        "      <td> 0.1654</td>\n",
        "      <td> 0.1856</td>\n",
        "    </tr>\n",
        "  </tbody>\n",
        "</table>\n",
        "<p>19 rows \u00d7 4 columns</p>\n",
        "</div>"
       ],
       "metadata": {},
       "output_type": "pyout",
       "prompt_number": 150,
       "text": [
        "                       AEX    FTSE    IBEX    TOPX\n",
        "Maturity Moneyness                                \n",
        "1        1.250000   0.1930  0.1858  0.2235  0.2036\n",
        "         1.176471   0.1804  0.1714  0.2148  0.1946\n",
        "         1.142857   0.1740  0.1640  0.2102  0.1910\n",
        "         1.111111   0.1675  0.1564  0.2056  0.1878\n",
        "         1.086957   0.1621  0.1502  0.2020  0.1858\n",
        "         1.063830   0.1567  0.1439  0.1984  0.1841\n",
        "         1.052632   0.1540  0.1408  0.1967  0.1834\n",
        "         1.041667   0.1514  0.1377  0.1950  0.1828\n",
        "         1.020408   0.1464  0.1319  0.1917  0.1818\n",
        "         1.000000   0.1417  0.1265  0.1885  0.1812\n",
        "         0.980392   0.1375  0.1219  0.1855  0.1809\n",
        "         0.961538   0.1337  0.1180  0.1825  0.1809\n",
        "         0.952381   0.1321  0.1164  0.1811  0.1810\n",
        "         0.943396   0.1307  0.1150  0.1798  0.1811\n",
        "         0.925926   0.1283  0.1127  0.1772  0.1815\n",
        "         0.909091   0.1263  0.1109  0.1748  0.1820\n",
        "         0.888889   0.1243  0.1093  0.1721  0.1828\n",
        "         0.869565   0.1227  0.1085  0.1698  0.1836\n",
        "         0.833333   0.1212  0.1100  0.1654  0.1856\n",
        "\n",
        "[19 rows x 4 columns]"
       ]
      }
     ],
     "prompt_number": 150
    },
    {
     "cell_type": "heading",
     "level": 4,
     "metadata": {},
     "source": [
      "Just for fun, we plot two indices to do a visual check on the data's integrity"
     ]
    },
    {
     "cell_type": "code",
     "collapsed": false,
     "input": [
      "pd.options.display.mpl_style = 'default'\n",
      "eqMarketVolsDF.loc[1,:]['FTSE'].plot(title='FTSE Implied Vol')"
     ],
     "language": "python",
     "metadata": {},
     "outputs": [
      {
       "metadata": {},
       "output_type": "pyout",
       "prompt_number": 151,
       "text": [
        "<matplotlib.axes.AxesSubplot at 0x1088e3dd0>"
       ]
      },
      {
       "metadata": {},
       "output_type": "display_data",
       "png": "[encoded data removed]",
       "text": [
        "<matplotlib.figure.Figure at 0x107db3f10>"
       ]
      }
     ],
     "prompt_number": 151
    },
    {
     "cell_type": "code",
     "collapsed": false,
     "input": [
      "eqMarketVolsDF.loc[1,:]['TOPX'].plot(title='TOPX Implied Vol')"
     ],
     "language": "python",
     "metadata": {},
     "outputs": [
      {
       "metadata": {},
       "output_type": "pyout",
       "prompt_number": 152,
       "text": [
        "<matplotlib.axes.AxesSubplot at 0x108b13710>"
       ]
      },
      {
       "metadata": {},
       "output_type": "display_data",
       "png": "[encoded data removed]",
       "text": [
        "<matplotlib.figure.Figure at 0x108b07f10>"
       ]
      }
     ],
     "prompt_number": 152
    },
    {
     "cell_type": "heading",
     "level": 1,
     "metadata": {},
     "source": [
      "Other Market Data"
     ]
    },
    {
     "cell_type": "heading",
     "level": 4,
     "metadata": {},
     "source": [
      "We also require other market data. In particular, zero curves, dividend yields, and spot prices for each index"
     ]
    },
    {
     "cell_type": "code",
     "collapsed": false,
     "input": [
      "zeroRates = pd.read_csv(\"ir_swap_zero_curve20140530.csv\", index_col='Maturity')"
     ],
     "language": "python",
     "metadata": {},
     "outputs": [],
     "prompt_number": 153
    },
    {
     "cell_type": "code",
     "collapsed": false,
     "input": [
      "zeroRates.plot(title=\"Zero-Curves\")"
     ],
     "language": "python",
     "metadata": {},
     "outputs": [
      {
       "metadata": {},
       "output_type": "pyout",
       "prompt_number": 154,
       "text": [
        "<matplotlib.axes.AxesSubplot at 0x108b13490>"
       ]
      },
      {
       "metadata": {},
       "output_type": "display_data",
       "png": "[encoded data removed]",
       "text": [
        "<matplotlib.figure.Figure at 0x1079ee550>"
       ]
      }
     ],
     "prompt_number": 154
    },
    {
     "cell_type": "code",
     "collapsed": false,
     "input": [
      "indexBaseLevels = pd.read_csv(\"equity_real_estate_index_curve20140530.csv\", index_col=\"IndexName\")\n",
      "indexBaseLevels"
     ],
     "language": "python",
     "metadata": {},
     "outputs": [
      {
       "html": [
        "<div style=\"max-height:1000px;max-width:1500px;overflow:auto;\">\n",
        "<table border=\"1\" class=\"dataframe\">\n",
        "  <thead>\n",
        "    <tr style=\"text-align: right;\">\n",
        "      <th></th>\n",
        "      <th>BaseLevel</th>\n",
        "    </tr>\n",
        "    <tr>\n",
        "      <th>IndexName</th>\n",
        "      <th></th>\n",
        "    </tr>\n",
        "  </thead>\n",
        "  <tbody>\n",
        "    <tr>\n",
        "      <th>AEX</th>\n",
        "      <td>   407.73</td>\n",
        "    </tr>\n",
        "    <tr>\n",
        "      <th>FTSE</th>\n",
        "      <td>  6852.53</td>\n",
        "    </tr>\n",
        "    <tr>\n",
        "      <th>IBEX</th>\n",
        "      <td> 10793.80</td>\n",
        "    </tr>\n",
        "    <tr>\n",
        "      <th>TOPX</th>\n",
        "      <td>  1201.41</td>\n",
        "    </tr>\n",
        "    <tr>\n",
        "      <th>SPX</th>\n",
        "      <td>  1920.67</td>\n",
        "    </tr>\n",
        "    <tr>\n",
        "      <th>STOXX50E</th>\n",
        "      <td>  3247.12</td>\n",
        "    </tr>\n",
        "  </tbody>\n",
        "</table>\n",
        "<p>6 rows \u00d7 1 columns</p>\n",
        "</div>"
       ],
       "metadata": {},
       "output_type": "pyout",
       "prompt_number": 155,
       "text": [
        "           BaseLevel\n",
        "IndexName           \n",
        "AEX           407.73\n",
        "FTSE         6852.53\n",
        "IBEX        10793.80\n",
        "TOPX         1201.41\n",
        "SPX          1920.67\n",
        "STOXX50E     3247.12\n",
        "\n",
        "[6 rows x 1 columns]"
       ]
      }
     ],
     "prompt_number": 155
    },
    {
     "cell_type": "code",
     "collapsed": false,
     "input": [
      "dividendYieldDF =pd.read_csv(\"yieldCurve.csv\", index_col = \"Maturity\")\n",
      "dividendYieldDF.plot()"
     ],
     "language": "python",
     "metadata": {},
     "outputs": [
      {
       "metadata": {},
       "output_type": "pyout",
       "prompt_number": 156,
       "text": [
        "<matplotlib.axes.AxesSubplot at 0x108b80d10>"
       ]
      },
      {
       "metadata": {},
       "output_type": "display_data",
       "png": "[encoded data removed]",
       "text": [
        "<matplotlib.figure.Figure at 0x1083e7a90>"
       ]
      }
     ],
     "prompt_number": 156
    },
    {
     "cell_type": "heading",
     "level": 1,
     "metadata": {},
     "source": [
      "Calculation of Prices"
     ]
    },
    {
     "cell_type": "heading",
     "level": 2,
     "metadata": {},
     "source": [
      "Market Prices"
     ]
    },
    {
     "cell_type": "code",
     "collapsed": false,
     "input": [
      "indexCurves = {'AEX' : 'EUR-SWAP' ,\t'FTSE': 'GBP-SWAP',\t'IBEX':'EUR-SWAP',\t'TOPX':'EUR-SWAP'}"
     ],
     "language": "python",
     "metadata": {},
     "outputs": [],
     "prompt_number": 157
    },
    {
     "cell_type": "code",
     "collapsed": false,
     "input": [
      "listo = list(zip(eqVolDF['Maturity'], eqVolDF['Moneyness']))\n",
      "multiOptionIndex = pd.MultiIndex.from_tuples(listo, names = ['Maturity', 'Moneyness'])"
     ],
     "language": "python",
     "metadata": {},
     "outputs": [],
     "prompt_number": 158
    },
    {
     "cell_type": "code",
     "collapsed": false,
     "input": [
      "marketPriceDF = pd.DataFrame(index=multiOptionIndex)"
     ],
     "language": "python",
     "metadata": {},
     "outputs": [],
     "prompt_number": 159
    },
    {
     "cell_type": "heading",
     "level": 4,
     "metadata": {},
     "source": [
      "The following function will convert from market vol to market price"
     ]
    },
    {
     "cell_type": "code",
     "collapsed": false,
     "input": [
      "def volToPrice(indexCurves, marketVolsDF):\n",
      "    '''Will take in a dictionary of indexCurves and their underlying curves\n",
      "       Also a DF of marketVols\n",
      "       and return \n",
      "    \n",
      "    '''\n",
      "    listo = list(zip(eqVolDF['Maturity'], eqVolDF['Moneyness']))\n",
      "    multiOptionIndex = pd.MultiIndex.from_tuples(listo, names = ['Maturity', 'Moneyness'])\n",
      "    marketPriceDF = pd.DataFrame(index=multiOptionIndex)\n",
      "    \n",
      "    for index in indexCurves:\n",
      "        \n",
      "        spotPrice = indexBaseLevels.loc[index]\n",
      "        dividendYield = dividendYieldDF.loc[360][index]\n",
      "        riskFree = zeroRates.loc[365][indexCurves[index]]\n",
      "        maturity = 1\n",
      "\n",
      "        prices = []\n",
      "\n",
      "        for option in eqMarketVolsDF.index:\n",
      "            #print prices\n",
      "            moneyness = option[1]\n",
      "            #print moneyness\n",
      "            vol = eqMarketVolsDF.at[option, index]\n",
      "           #print option[1]\n",
      "            #BlackScholes(spotPrice,spotPrice/moneyness,maturity,riskFree,dividendYield, vol)\n",
      "            BlackScholes(spotPrice,spotPrice/moneyness,maturity,riskFree,dividendYield, vol)\n",
      "            #prices.append( )\n",
      "    \n",
      "\n",
      "        pricesFlatten = np.array(prices)\n",
      "        marketPriceDF[index] = pricesFlatten\n",
      "    \n",
      "    return marketPriceDF\n",
      "            "
     ],
     "language": "python",
     "metadata": {},
     "outputs": [],
     "prompt_number": 175
    },
    {
     "cell_type": "heading",
     "level": 4,
     "metadata": {},
     "source": [
      "We get market prices"
     ]
    },
    {
     "cell_type": "code",
     "collapsed": false,
     "input": [
      "marketPrices = volToPrice(indexCurves,eqMarketVolsDF)\n",
      "marketPrices"
     ],
     "language": "python",
     "metadata": {},
     "outputs": [
      {
       "ename": "ValueError",
       "evalue": "The truth value of a Series is ambiguous. Use a.empty, a.bool(), a.item(), a.any() or a.all().",
       "output_type": "pyerr",
       "traceback": [
        "\u001b[0;31m---------------------------------------------------------------------------\u001b[0m\n\u001b[0;31mValueError\u001b[0m                                Traceback (most recent call last)",
        "\u001b[0;32m<ipython-input-176-d21854218a2e>\u001b[0m in \u001b[0;36m<module>\u001b[0;34m()\u001b[0m\n\u001b[0;32m----> 1\u001b[0;31m \u001b[0mmarketPrices\u001b[0m \u001b[0;34m=\u001b[0m \u001b[0mvolToPrice\u001b[0m\u001b[0;34m(\u001b[0m\u001b[0mindexCurves\u001b[0m\u001b[0;34m,\u001b[0m\u001b[0meqMarketVolsDF\u001b[0m\u001b[0;34m)\u001b[0m\u001b[0;34m\u001b[0m\u001b[0m\n\u001b[0m\u001b[1;32m      2\u001b[0m \u001b[0mmarketPrices\u001b[0m\u001b[0;34m\u001b[0m\u001b[0m\n",
        "\u001b[0;32m<ipython-input-175-082c6698f299>\u001b[0m in \u001b[0;36mvolToPrice\u001b[0;34m(indexCurves, marketVolsDF)\u001b[0m\n\u001b[1;32m     25\u001b[0m            \u001b[0;31m#print option[1]\u001b[0m\u001b[0;34m\u001b[0m\u001b[0;34m\u001b[0m\u001b[0m\n\u001b[1;32m     26\u001b[0m             \u001b[0;31m#BlackScholes(spotPrice,spotPrice/moneyness,maturity,riskFree,dividendYield, vol)\u001b[0m\u001b[0;34m\u001b[0m\u001b[0;34m\u001b[0m\u001b[0m\n\u001b[0;32m---> 27\u001b[0;31m             \u001b[0mBlackScholes\u001b[0m\u001b[0;34m(\u001b[0m\u001b[0mspotPrice\u001b[0m\u001b[0;34m,\u001b[0m\u001b[0mspotPrice\u001b[0m\u001b[0;34m/\u001b[0m\u001b[0mmoneyness\u001b[0m\u001b[0;34m,\u001b[0m\u001b[0mmaturity\u001b[0m\u001b[0;34m,\u001b[0m\u001b[0mriskFree\u001b[0m\u001b[0;34m,\u001b[0m\u001b[0mdividendYield\u001b[0m\u001b[0;34m,\u001b[0m \u001b[0mvol\u001b[0m\u001b[0;34m)\u001b[0m\u001b[0;34m\u001b[0m\u001b[0m\n\u001b[0m\u001b[1;32m     28\u001b[0m             \u001b[0;31m#prices.append( )\u001b[0m\u001b[0;34m\u001b[0m\u001b[0;34m\u001b[0m\u001b[0m\n\u001b[1;32m     29\u001b[0m \u001b[0;34m\u001b[0m\u001b[0m\n",
        "\u001b[0;32m<ipython-input-139-c5ac72ba0869>\u001b[0m in \u001b[0;36mBlackScholes\u001b[0;34m(S, X, T, r, q, v)\u001b[0m\n\u001b[1;32m     20\u001b[0m     \u001b[0md1\u001b[0m \u001b[0;34m=\u001b[0m \u001b[0;34m(\u001b[0m\u001b[0mnp\u001b[0m\u001b[0;34m.\u001b[0m\u001b[0mlog\u001b[0m\u001b[0;34m(\u001b[0m\u001b[0mS\u001b[0m\u001b[0;34m/\u001b[0m\u001b[0mX\u001b[0m\u001b[0;34m)\u001b[0m\u001b[0;34m+\u001b[0m\u001b[0;34m(\u001b[0m\u001b[0mr\u001b[0m\u001b[0;34m-\u001b[0m\u001b[0mq\u001b[0m\u001b[0;34m+\u001b[0m\u001b[0mv\u001b[0m\u001b[0;34m*\u001b[0m\u001b[0mv\u001b[0m\u001b[0;34m/\u001b[0m\u001b[0;36m2.0\u001b[0m\u001b[0;34m)\u001b[0m\u001b[0;34m*\u001b[0m\u001b[0mT\u001b[0m\u001b[0;34m)\u001b[0m\u001b[0;34m/\u001b[0m\u001b[0;34m(\u001b[0m\u001b[0mv\u001b[0m\u001b[0;34m*\u001b[0m\u001b[0mnp\u001b[0m\u001b[0;34m.\u001b[0m\u001b[0msqrt\u001b[0m\u001b[0;34m(\u001b[0m\u001b[0mT\u001b[0m\u001b[0;34m)\u001b[0m\u001b[0;34m)\u001b[0m\u001b[0;34m\u001b[0m\u001b[0m\n\u001b[1;32m     21\u001b[0m     \u001b[0md2\u001b[0m \u001b[0;34m=\u001b[0m \u001b[0md1\u001b[0m\u001b[0;34m-\u001b[0m\u001b[0mv\u001b[0m\u001b[0;34m*\u001b[0m\u001b[0mnp\u001b[0m\u001b[0;34m.\u001b[0m\u001b[0msqrt\u001b[0m\u001b[0;34m(\u001b[0m\u001b[0mT\u001b[0m\u001b[0;34m)\u001b[0m\u001b[0;34m\u001b[0m\u001b[0m\n\u001b[0;32m---> 22\u001b[0;31m     \u001b[0;32mreturn\u001b[0m \u001b[0;34m(\u001b[0m\u001b[0mS\u001b[0m\u001b[0;34m*\u001b[0m\u001b[0mnp\u001b[0m\u001b[0;34m.\u001b[0m\u001b[0mexp\u001b[0m\u001b[0;34m(\u001b[0m\u001b[0;34m-\u001b[0m\u001b[0mq\u001b[0m\u001b[0;34m*\u001b[0m\u001b[0mT\u001b[0m\u001b[0;34m)\u001b[0m\u001b[0;34m*\u001b[0m\u001b[0mCND\u001b[0m\u001b[0;34m(\u001b[0m\u001b[0md1\u001b[0m\u001b[0;34m)\u001b[0m\u001b[0;34m-\u001b[0m\u001b[0mX\u001b[0m\u001b[0;34m*\u001b[0m\u001b[0mnp\u001b[0m\u001b[0;34m.\u001b[0m\u001b[0mexp\u001b[0m\u001b[0;34m(\u001b[0m\u001b[0;34m-\u001b[0m\u001b[0mr\u001b[0m\u001b[0;34m*\u001b[0m\u001b[0mT\u001b[0m\u001b[0;34m)\u001b[0m\u001b[0;34m*\u001b[0m\u001b[0mCND\u001b[0m\u001b[0;34m(\u001b[0m\u001b[0md2\u001b[0m\u001b[0;34m)\u001b[0m\u001b[0;34m)\u001b[0m\u001b[0;34m\u001b[0m\u001b[0m\n\u001b[0m\u001b[1;32m     23\u001b[0m \u001b[0;34m\u001b[0m\u001b[0m\n\u001b[1;32m     24\u001b[0m \u001b[0;32mdef\u001b[0m \u001b[0mMJDCall\u001b[0m\u001b[0;34m(\u001b[0m\u001b[0mjumpIntensity\u001b[0m\u001b[0;34m,\u001b[0m \u001b[0mjumpMean\u001b[0m\u001b[0;34m,\u001b[0m \u001b[0mjumpVol\u001b[0m\u001b[0;34m,\u001b[0m \u001b[0msigma\u001b[0m\u001b[0;34m,\u001b[0m \u001b[0mr\u001b[0m\u001b[0;34m,\u001b[0m \u001b[0mq\u001b[0m\u001b[0;34m,\u001b[0m \u001b[0mT\u001b[0m\u001b[0;34m,\u001b[0m \u001b[0mS\u001b[0m\u001b[0;34m,\u001b[0m \u001b[0mK\u001b[0m\u001b[0;34m)\u001b[0m\u001b[0;34m:\u001b[0m\u001b[0;34m\u001b[0m\u001b[0m\n",
        "\u001b[0;32m<ipython-input-139-c5ac72ba0869>\u001b[0m in \u001b[0;36mCND\u001b[0;34m(X)\u001b[0m\n\u001b[1;32m     12\u001b[0m     w = 1.0 - 1.0 / sqrt(2*pi)*exp(-L*L/2.) * (a1*K + a2*K*K + a3*pow(K,3) +\n\u001b[1;32m     13\u001b[0m     a4*pow(K,4) + a5*pow(K,5))\n\u001b[0;32m---> 14\u001b[0;31m     \u001b[0;32mif\u001b[0m \u001b[0mX\u001b[0m\u001b[0;34m<\u001b[0m\u001b[0;36m0\u001b[0m\u001b[0;34m:\u001b[0m\u001b[0;34m\u001b[0m\u001b[0m\n\u001b[0m\u001b[1;32m     15\u001b[0m         \u001b[0mw\u001b[0m \u001b[0;34m=\u001b[0m \u001b[0;36m1.0\u001b[0m\u001b[0;34m-\u001b[0m\u001b[0mw\u001b[0m\u001b[0;34m\u001b[0m\u001b[0m\n\u001b[1;32m     16\u001b[0m     \u001b[0;32mreturn\u001b[0m \u001b[0mw\u001b[0m\u001b[0;34m\u001b[0m\u001b[0m\n",
        "\u001b[0;32m/Users/zaighum47/anaconda/lib/python2.7/site-packages/pandas/core/generic.pyc\u001b[0m in \u001b[0;36m__nonzero__\u001b[0;34m(self)\u001b[0m\n\u001b[1;32m    674\u001b[0m         raise ValueError(\"The truth value of a {0} is ambiguous. \"\n\u001b[1;32m    675\u001b[0m                          \u001b[0;34m\"Use a.empty, a.bool(), a.item(), a.any() or a.all().\"\u001b[0m\u001b[0;34m\u001b[0m\u001b[0m\n\u001b[0;32m--> 676\u001b[0;31m                          .format(self.__class__.__name__))\n\u001b[0m\u001b[1;32m    677\u001b[0m \u001b[0;34m\u001b[0m\u001b[0m\n\u001b[1;32m    678\u001b[0m     \u001b[0m__bool__\u001b[0m \u001b[0;34m=\u001b[0m \u001b[0m__nonzero__\u001b[0m\u001b[0;34m\u001b[0m\u001b[0m\n",
        "\u001b[0;31mValueError\u001b[0m: The truth value of a Series is ambiguous. Use a.empty, a.bool(), a.item(), a.any() or a.all()."
       ]
      }
     ],
     "prompt_number": 176
    },
    {
     "cell_type": "heading",
     "level": 4,
     "metadata": {},
     "source": [
      "The following function uses calibrated parameters for MJD and calculates the model prices"
     ]
    },
    {
     "cell_type": "code",
     "collapsed": false,
     "input": [
      "def volToPriceMJD(indexCurves, parameters):\n",
      "    '''Will take in a dictionary of indexCurves and their underlying curves\n",
      "       Also a DF of marketVols\n",
      "       and parameters for MJD\n",
      "       and return a DataFrame of prices\n",
      "    '''\n",
      "    listo = list(zip(eqVolDF['Maturity'], eqVolDF['Moneyness']));\n",
      "    multiOptionIndex = pd.MultiIndex.from_tuples(listo, names = ['Maturity', 'Moneyness']);\n",
      "    marketPriceDF = pd.DataFrame(index=multiOptionIndex);\n",
      "    \n",
      "    for index in indexCurves:\n",
      "        \n",
      "        spotPrice = indexBaseLevels.loc[index];\n",
      "        dividendYield = dividendYieldDF.loc[360][index];\n",
      "        riskFree = zeroRates.loc[365][indexCurves[index]];\n",
      "        maturity = 1;\n",
      "\n",
      "        prices = [];\n",
      "        jumpIntensity = parameters[index][\"jumpIntensity\"];\n",
      "        jumpMean = parameters[index][\"jumpMean\"];\n",
      "        jumpVol = parameters[index][\"jumpVol\"];\n",
      "        vol = parameters[index][\"vol\"];\n",
      "        \n",
      "        for option in eqMarketVolsDF.index:\n",
      "            #print prices\n",
      "            moneyness = option[1];\n",
      "            vol = eqMarketVolsDF.at[option, index];\n",
      "            #print option[1]\n",
      "            calcPrice = MJDCall(jumpIntensity, jumpMean, jumpVol, vol, riskFree,dividendYield,maturity, spotPrice,spotPrice/moneyness);\n",
      "            prices.append(calcPrice);\n",
      "            \n",
      "\n",
      "        pricesFlatten = np.array(prices);\n",
      "        marketPriceDF[index] = pricesFlatten;\n",
      "    \n",
      "    return marketPriceDF;\n",
      "            "
     ],
     "language": "python",
     "metadata": {},
     "outputs": []
    },
    {
     "cell_type": "code",
     "collapsed": false,
     "input": [
      "matlabPrices = volToPriceMJD(indexCurves,calibratedValuesMatlabDF);"
     ],
     "language": "python",
     "metadata": {},
     "outputs": [
      {
       "output_type": "stream",
       "stream": "stdout",
       "text": [
        "0.29429719\n"
       ]
      },
      {
       "ename": "ValueError",
       "evalue": "The truth value of a Series is ambiguous. Use a.empty, a.bool(), a.item(), a.any() or a.all().",
       "output_type": "pyerr",
       "traceback": [
        "\u001b[0;31m---------------------------------------------------------------------------\u001b[0m\n\u001b[0;31mValueError\u001b[0m                                Traceback (most recent call last)",
        "\u001b[0;32m<ipython-input-178-e97d3d52a2cf>\u001b[0m in \u001b[0;36m<module>\u001b[0;34m()\u001b[0m\n\u001b[0;32m----> 1\u001b[0;31m \u001b[0mmatlabPrices\u001b[0m \u001b[0;34m=\u001b[0m \u001b[0mvolToPriceMJD\u001b[0m\u001b[0;34m(\u001b[0m\u001b[0mindexCurves\u001b[0m\u001b[0;34m,\u001b[0m\u001b[0mcalibratedValuesMatlabDF\u001b[0m\u001b[0;34m)\u001b[0m\u001b[0;34m;\u001b[0m\u001b[0;34m\u001b[0m\u001b[0m\n\u001b[0m",
        "\u001b[0;32m<ipython-input-68-b6083c4c5723>\u001b[0m in \u001b[0;36mvolToPriceMJD\u001b[0;34m(indexCurves, parameters)\u001b[0m\n\u001b[1;32m     27\u001b[0m             \u001b[0mvol\u001b[0m \u001b[0;34m=\u001b[0m \u001b[0meqMarketVolsDF\u001b[0m\u001b[0;34m.\u001b[0m\u001b[0mat\u001b[0m\u001b[0;34m[\u001b[0m\u001b[0moption\u001b[0m\u001b[0;34m,\u001b[0m \u001b[0mindex\u001b[0m\u001b[0;34m]\u001b[0m\u001b[0;34m;\u001b[0m\u001b[0;34m\u001b[0m\u001b[0m\n\u001b[1;32m     28\u001b[0m             \u001b[0;31m#print option[1]\u001b[0m\u001b[0;34m\u001b[0m\u001b[0;34m\u001b[0m\u001b[0m\n\u001b[0;32m---> 29\u001b[0;31m             \u001b[0mcalcPrice\u001b[0m \u001b[0;34m=\u001b[0m \u001b[0mMJDCall\u001b[0m\u001b[0;34m(\u001b[0m\u001b[0mjumpIntensity\u001b[0m\u001b[0;34m,\u001b[0m \u001b[0mjumpMean\u001b[0m\u001b[0;34m,\u001b[0m \u001b[0mjumpVol\u001b[0m\u001b[0;34m,\u001b[0m \u001b[0mvol\u001b[0m\u001b[0;34m,\u001b[0m \u001b[0mriskFree\u001b[0m\u001b[0;34m,\u001b[0m\u001b[0mdividendYield\u001b[0m\u001b[0;34m,\u001b[0m\u001b[0mmaturity\u001b[0m\u001b[0;34m,\u001b[0m \u001b[0mspotPrice\u001b[0m\u001b[0;34m,\u001b[0m\u001b[0mspotPrice\u001b[0m\u001b[0;34m/\u001b[0m\u001b[0mmoneyness\u001b[0m\u001b[0;34m)\u001b[0m\u001b[0;34m;\u001b[0m\u001b[0;34m\u001b[0m\u001b[0m\n\u001b[0m\u001b[1;32m     30\u001b[0m             \u001b[0mprices\u001b[0m\u001b[0;34m.\u001b[0m\u001b[0mappend\u001b[0m\u001b[0;34m(\u001b[0m\u001b[0mcalcPrice\u001b[0m\u001b[0;34m)\u001b[0m\u001b[0;34m;\u001b[0m\u001b[0;34m\u001b[0m\u001b[0m\n\u001b[1;32m     31\u001b[0m \u001b[0;34m\u001b[0m\u001b[0m\n",
        "\u001b[0;32m<ipython-input-139-c5ac72ba0869>\u001b[0m in \u001b[0;36mMJDCall\u001b[0;34m(jumpIntensity, jumpMean, jumpVol, sigma, r, q, T, S, K)\u001b[0m\n\u001b[1;32m     39\u001b[0m           \u001b[0;31m#  print BlackScholes(S,K,T,r_n,q,sigma_n)\u001b[0m\u001b[0;34m\u001b[0m\u001b[0;34m\u001b[0m\u001b[0m\n\u001b[1;32m     40\u001b[0m \u001b[0;34m\u001b[0m\u001b[0m\n\u001b[0;32m---> 41\u001b[0;31m         \u001b[0mcall\u001b[0m \u001b[0;34m+=\u001b[0m \u001b[0;34m(\u001b[0m\u001b[0;34m(\u001b[0m\u001b[0;34m(\u001b[0m\u001b[0mlambdaPrime\u001b[0m\u001b[0;34m*\u001b[0m\u001b[0mT\u001b[0m\u001b[0;34m)\u001b[0m\u001b[0;34m**\u001b[0m\u001b[0mi\u001b[0m\u001b[0;34m)\u001b[0m\u001b[0;34m/\u001b[0m\u001b[0;34m(\u001b[0m\u001b[0mfactorial\u001b[0m\u001b[0;34m(\u001b[0m\u001b[0mi\u001b[0m\u001b[0;34m)\u001b[0m\u001b[0;34m)\u001b[0m\u001b[0;34m)\u001b[0m\u001b[0;34m*\u001b[0m\u001b[0mnp\u001b[0m\u001b[0;34m.\u001b[0m\u001b[0mexp\u001b[0m\u001b[0;34m(\u001b[0m\u001b[0;34m-\u001b[0m\u001b[0mlambdaPrime\u001b[0m\u001b[0;34m*\u001b[0m\u001b[0mT\u001b[0m\u001b[0;34m)\u001b[0m\u001b[0;34m*\u001b[0m\u001b[0mBlackScholes\u001b[0m\u001b[0;34m(\u001b[0m\u001b[0mS\u001b[0m\u001b[0;34m,\u001b[0m\u001b[0mK\u001b[0m\u001b[0;34m,\u001b[0m\u001b[0mT\u001b[0m\u001b[0;34m,\u001b[0m\u001b[0mr_n\u001b[0m\u001b[0;34m,\u001b[0m\u001b[0mq\u001b[0m\u001b[0;34m,\u001b[0m\u001b[0msigma_n\u001b[0m\u001b[0;34m)\u001b[0m\u001b[0;34m\u001b[0m\u001b[0m\n\u001b[0m\u001b[1;32m     42\u001b[0m         \u001b[0;31m#print call\u001b[0m\u001b[0;34m\u001b[0m\u001b[0;34m\u001b[0m\u001b[0m\n\u001b[1;32m     43\u001b[0m     \u001b[0;32mreturn\u001b[0m \u001b[0mcall\u001b[0m\u001b[0;34m\u001b[0m\u001b[0m\n",
        "\u001b[0;32m<ipython-input-139-c5ac72ba0869>\u001b[0m in \u001b[0;36mBlackScholes\u001b[0;34m(S, X, T, r, q, v)\u001b[0m\n\u001b[1;32m     20\u001b[0m     \u001b[0md1\u001b[0m \u001b[0;34m=\u001b[0m \u001b[0;34m(\u001b[0m\u001b[0mnp\u001b[0m\u001b[0;34m.\u001b[0m\u001b[0mlog\u001b[0m\u001b[0;34m(\u001b[0m\u001b[0mS\u001b[0m\u001b[0;34m/\u001b[0m\u001b[0mX\u001b[0m\u001b[0;34m)\u001b[0m\u001b[0;34m+\u001b[0m\u001b[0;34m(\u001b[0m\u001b[0mr\u001b[0m\u001b[0;34m-\u001b[0m\u001b[0mq\u001b[0m\u001b[0;34m+\u001b[0m\u001b[0mv\u001b[0m\u001b[0;34m*\u001b[0m\u001b[0mv\u001b[0m\u001b[0;34m/\u001b[0m\u001b[0;36m2.0\u001b[0m\u001b[0;34m)\u001b[0m\u001b[0;34m*\u001b[0m\u001b[0mT\u001b[0m\u001b[0;34m)\u001b[0m\u001b[0;34m/\u001b[0m\u001b[0;34m(\u001b[0m\u001b[0mv\u001b[0m\u001b[0;34m*\u001b[0m\u001b[0mnp\u001b[0m\u001b[0;34m.\u001b[0m\u001b[0msqrt\u001b[0m\u001b[0;34m(\u001b[0m\u001b[0mT\u001b[0m\u001b[0;34m)\u001b[0m\u001b[0;34m)\u001b[0m\u001b[0;34m\u001b[0m\u001b[0m\n\u001b[1;32m     21\u001b[0m     \u001b[0md2\u001b[0m \u001b[0;34m=\u001b[0m \u001b[0md1\u001b[0m\u001b[0;34m-\u001b[0m\u001b[0mv\u001b[0m\u001b[0;34m*\u001b[0m\u001b[0mnp\u001b[0m\u001b[0;34m.\u001b[0m\u001b[0msqrt\u001b[0m\u001b[0;34m(\u001b[0m\u001b[0mT\u001b[0m\u001b[0;34m)\u001b[0m\u001b[0;34m\u001b[0m\u001b[0m\n\u001b[0;32m---> 22\u001b[0;31m     \u001b[0;32mreturn\u001b[0m \u001b[0;34m(\u001b[0m\u001b[0mS\u001b[0m\u001b[0;34m*\u001b[0m\u001b[0mnp\u001b[0m\u001b[0;34m.\u001b[0m\u001b[0mexp\u001b[0m\u001b[0;34m(\u001b[0m\u001b[0;34m-\u001b[0m\u001b[0mq\u001b[0m\u001b[0;34m*\u001b[0m\u001b[0mT\u001b[0m\u001b[0;34m)\u001b[0m\u001b[0;34m*\u001b[0m\u001b[0mCND\u001b[0m\u001b[0;34m(\u001b[0m\u001b[0md1\u001b[0m\u001b[0;34m)\u001b[0m\u001b[0;34m-\u001b[0m\u001b[0mX\u001b[0m\u001b[0;34m*\u001b[0m\u001b[0mnp\u001b[0m\u001b[0;34m.\u001b[0m\u001b[0mexp\u001b[0m\u001b[0;34m(\u001b[0m\u001b[0;34m-\u001b[0m\u001b[0mr\u001b[0m\u001b[0;34m*\u001b[0m\u001b[0mT\u001b[0m\u001b[0;34m)\u001b[0m\u001b[0;34m*\u001b[0m\u001b[0mCND\u001b[0m\u001b[0;34m(\u001b[0m\u001b[0md2\u001b[0m\u001b[0;34m)\u001b[0m\u001b[0;34m)\u001b[0m\u001b[0;34m\u001b[0m\u001b[0m\n\u001b[0m\u001b[1;32m     23\u001b[0m \u001b[0;34m\u001b[0m\u001b[0m\n\u001b[1;32m     24\u001b[0m \u001b[0;32mdef\u001b[0m \u001b[0mMJDCall\u001b[0m\u001b[0;34m(\u001b[0m\u001b[0mjumpIntensity\u001b[0m\u001b[0;34m,\u001b[0m \u001b[0mjumpMean\u001b[0m\u001b[0;34m,\u001b[0m \u001b[0mjumpVol\u001b[0m\u001b[0;34m,\u001b[0m \u001b[0msigma\u001b[0m\u001b[0;34m,\u001b[0m \u001b[0mr\u001b[0m\u001b[0;34m,\u001b[0m \u001b[0mq\u001b[0m\u001b[0;34m,\u001b[0m \u001b[0mT\u001b[0m\u001b[0;34m,\u001b[0m \u001b[0mS\u001b[0m\u001b[0;34m,\u001b[0m \u001b[0mK\u001b[0m\u001b[0;34m)\u001b[0m\u001b[0;34m:\u001b[0m\u001b[0;34m\u001b[0m\u001b[0m\n",
        "\u001b[0;32m<ipython-input-139-c5ac72ba0869>\u001b[0m in \u001b[0;36mCND\u001b[0;34m(X)\u001b[0m\n\u001b[1;32m     12\u001b[0m     w = 1.0 - 1.0 / sqrt(2*pi)*exp(-L*L/2.) * (a1*K + a2*K*K + a3*pow(K,3) +\n\u001b[1;32m     13\u001b[0m     a4*pow(K,4) + a5*pow(K,5))\n\u001b[0;32m---> 14\u001b[0;31m     \u001b[0;32mif\u001b[0m \u001b[0mX\u001b[0m\u001b[0;34m<\u001b[0m\u001b[0;36m0\u001b[0m\u001b[0;34m:\u001b[0m\u001b[0;34m\u001b[0m\u001b[0m\n\u001b[0m\u001b[1;32m     15\u001b[0m         \u001b[0mw\u001b[0m \u001b[0;34m=\u001b[0m \u001b[0;36m1.0\u001b[0m\u001b[0;34m-\u001b[0m\u001b[0mw\u001b[0m\u001b[0;34m\u001b[0m\u001b[0m\n\u001b[1;32m     16\u001b[0m     \u001b[0;32mreturn\u001b[0m \u001b[0mw\u001b[0m\u001b[0;34m\u001b[0m\u001b[0m\n",
        "\u001b[0;32m/Users/zaighum47/anaconda/lib/python2.7/site-packages/pandas/core/generic.pyc\u001b[0m in \u001b[0;36m__nonzero__\u001b[0;34m(self)\u001b[0m\n\u001b[1;32m    674\u001b[0m         raise ValueError(\"The truth value of a {0} is ambiguous. \"\n\u001b[1;32m    675\u001b[0m                          \u001b[0;34m\"Use a.empty, a.bool(), a.item(), a.any() or a.all().\"\u001b[0m\u001b[0;34m\u001b[0m\u001b[0m\n\u001b[0;32m--> 676\u001b[0;31m                          .format(self.__class__.__name__))\n\u001b[0m\u001b[1;32m    677\u001b[0m \u001b[0;34m\u001b[0m\u001b[0m\n\u001b[1;32m    678\u001b[0m     \u001b[0m__bool__\u001b[0m \u001b[0;34m=\u001b[0m \u001b[0m__nonzero__\u001b[0m\u001b[0;34m\u001b[0m\u001b[0m\n",
        "\u001b[0;31mValueError\u001b[0m: The truth value of a Series is ambiguous. Use a.empty, a.bool(), a.item(), a.any() or a.all()."
       ]
      }
     ],
     "prompt_number": 178
    },
    {
     "cell_type": "code",
     "collapsed": false,
     "input": [
      "matlabPrices"
     ],
     "language": "python",
     "metadata": {},
     "outputs": []
    },
    {
     "cell_type": "code",
     "collapsed": false,
     "input": [
      "csharpPrices = volToPriceMJD(indexCurves,calibratedValuesCSharpDF);"
     ],
     "language": "python",
     "metadata": {},
     "outputs": []
    },
    {
     "cell_type": "code",
     "collapsed": false,
     "input": [
      "csharpPrices"
     ],
     "language": "python",
     "metadata": {},
     "outputs": []
    },
    {
     "cell_type": "code",
     "collapsed": false,
     "input": [
      "difference = csharpPrices - matlabPrices"
     ],
     "language": "python",
     "metadata": {},
     "outputs": []
    },
    {
     "cell_type": "code",
     "collapsed": false,
     "input": [
      "difference"
     ],
     "language": "python",
     "metadata": {},
     "outputs": []
    },
    {
     "cell_type": "code",
     "collapsed": false,
     "input": [
      "relativeDifference = ((csharpPrices - matlabPrices)/csharpPrices)\n",
      "relativeDifference"
     ],
     "language": "python",
     "metadata": {},
     "outputs": []
    },
    {
     "cell_type": "code",
     "collapsed": false,
     "input": [
      "csharpPrices.plot()"
     ],
     "language": "python",
     "metadata": {},
     "outputs": []
    },
    {
     "cell_type": "code",
     "collapsed": false,
     "input": [
      "matlabPrices.plot()"
     ],
     "language": "python",
     "metadata": {},
     "outputs": []
    },
    {
     "cell_type": "code",
     "collapsed": false,
     "input": [
      "(marketPrices - csharpPrices).plot(kind='bar')"
     ],
     "language": "python",
     "metadata": {},
     "outputs": []
    },
    {
     "cell_type": "code",
     "collapsed": false,
     "input": [
      "(marketPrices - matlabPrices)/marketPrices"
     ],
     "language": "python",
     "metadata": {},
     "outputs": []
    },
    {
     "cell_type": "code",
     "collapsed": false,
     "input": [],
     "language": "python",
     "metadata": {},
     "outputs": []
    }
   ],
   "metadata": {}
  }
 ]
}