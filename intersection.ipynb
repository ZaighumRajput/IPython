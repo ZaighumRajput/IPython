{
 "metadata": {
  "name": "",
  "signature": "sha256:2ba09c244da25a6788eecc7eb68b69a043d363a50aa334255a5287df79ba1ac0"
 },
 "nbformat": 3,
 "nbformat_minor": 0,
 "worksheets": [
  {
   "cells": [
    {
     "cell_type": "code",
     "collapsed": false,
     "input": [
      "import numpy as np\n",
      "import matplotlib\n",
      "from Newton import solve"
     ],
     "language": "python",
     "metadata": {},
     "outputs": [],
     "prompt_number": 37
    },
    {
     "cell_type": "code",
     "collapsed": false,
     "input": [
      "def g1(x):\n",
      "    return np.sin(x)\n",
      "def g2(x):\n",
      "    return 1 - x*x\n",
      "def objectiveFunction(f,g,x):\n",
      "    return f(x)-g(x)\n"
     ],
     "language": "python",
     "metadata": {},
     "outputs": [],
     "prompt_number": 35
    },
    {
     "cell_type": "code",
     "collapsed": false,
     "input": [
      "x = np.linspace(-3,3,1000)\n",
      "plot(x, g2(x))\n",
      "plot(x,g1(x))\n"
     ],
     "language": "python",
     "metadata": {},
     "outputs": [],
     "prompt_number": 18
    },
    {
     "cell_type": "code",
     "collapsed": false,
     "input": [
      "def fvals_objective(x):\n",
      "    \"\"\"\n",
      "    Return f(x) and f'(x) for applying Newton\n",
      "    \"\"\"\n",
      "    f = np.sin(x) - (1 - x*x)\n",
      "    f1= cos(x) + 2*x\n",
      "    return f,f1\n",
      "\n"
     ],
     "language": "python",
     "metadata": {},
     "outputs": [],
     "prompt_number": 43
    },
    {
     "cell_type": "heading",
     "level": 1,
     "metadata": {},
     "source": [
      "Tests for g1 and g2"
     ]
    },
    {
     "cell_type": "code",
     "collapsed": false,
     "input": [
      "solve(fvals_objective, -5)\n",
      "solve(fvals_objective, 5)"
     ],
     "language": "python",
     "metadata": {},
     "outputs": [
      {
       "output_type": "stream",
       "stream": "stdout",
       "text": [
        "After 1 iterations, x is -2.431241610669229e+00   \n",
        "After 2 iterations, x is -1.673524725628565e+00   \n",
        "After 3 iterations, x is -1.439886747186563e+00   \n",
        "After 4 iterations, x is -1.410122031074706e+00   \n",
        "After 5 iterations, x is -1.409624143254307e+00   \n",
        "After 6 iterations, x is -1.409624004002607e+00   \n",
        "After 7 iterations, x is -1.409624004002596e+00   \n",
        "After 1 iterations, x is  2.759448403710961e+00   \n",
        "After 2 iterations, x is  1.237465988845652e+00   \n",
        "After 3 iterations, x is  7.106227505972005e-01   \n",
        "After 4 iterations, x is  6.384446509644517e-01   \n",
        "After 5 iterations, x is  6.367336404006725e-01   \n",
        "After 6 iterations, x is  6.367326508056133e-01   \n",
        "After 7 iterations, x is  6.367326508052820e-01   \n"
       ]
      },
      {
       "metadata": {},
       "output_type": "pyout",
       "prompt_number": 45,
       "text": [
        "(0.63673265080528196, 7)"
       ]
      }
     ],
     "prompt_number": 45
    },
    {
     "cell_type": "code",
     "collapsed": false,
     "input": [
      "def testObjectiveFunction(debug_solve=False):\n",
      "    \"\"\"\n",
      "    This function tests if objective function has the \n",
      "    desired results\n",
      "    \"\"\"\n",
      "    x = linspace(-100,100,10);\n",
      "    assert abs(objectivFunction(g1,g2,x) - (g1(x) - g2(x))) == 0\n",
      "    \n",
      "    "
     ],
     "language": "python",
     "metadata": {},
     "outputs": [],
     "prompt_number": 25
    },
    {
     "cell_type": "code",
     "collapsed": false,
     "input": [],
     "language": "python",
     "metadata": {},
     "outputs": []
    }
   ],
   "metadata": {}
  }
 ]
}