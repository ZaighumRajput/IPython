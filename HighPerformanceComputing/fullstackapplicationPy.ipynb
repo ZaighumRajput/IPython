{
 "metadata": {
  "name": "",
  "signature": "sha256:bcbd0e7a7d87a94a47669d7813949bdad5236c1b7d0a90cc0f16e60aeb47035b"
 },
 "nbformat": 3,
 "nbformat_minor": 0,
 "worksheets": [
  {
   "cells": [
    {
     "cell_type": "code",
     "collapsed": false,
     "input": [
      "import numpy as np"
     ],
     "language": "python",
     "metadata": {},
     "outputs": [],
     "prompt_number": 1
    },
    {
     "cell_type": "code",
     "collapsed": false,
     "input": [
      "rand_arr = np.random.rand(2,2)"
     ],
     "language": "python",
     "metadata": {},
     "outputs": [],
     "prompt_number": 2
    },
    {
     "cell_type": "code",
     "collapsed": false,
     "input": [
      "np.savetxt('test.out', rand_arr, delimiter=' ', fmt='%1.5f', header = 'a b', comments='')"
     ],
     "language": "python",
     "metadata": {},
     "outputs": [],
     "prompt_number": 4
    },
    {
     "cell_type": "code",
     "collapsed": false,
     "input": [
      "ls"
     ],
     "language": "python",
     "metadata": {},
     "outputs": [
      {
       "output_type": "stream",
       "stream": "stdout",
       "text": [
        "IntersectionExample.ipynb     \u001b[34mcPlusPlusOpenMP\u001b[m\u001b[m/\r\n",
        "Newton.ipynb                  fullstackapplicationPy.ipynb\r\n",
        "Newton.py                     intersection.ipynb\r\n",
        "Newton.pyc                    \u001b[34mnewton\u001b[m\u001b[m/\r\n",
        "\u001b[34mNewtonModule\u001b[m\u001b[m/                 noseIntro.py\r\n",
        "NewtonModule.py               noseIntro.pyc\r\n",
        "SimplePlot.ipynb              randomNumberGenerator.py\r\n",
        "Untitled0.ipynb               test.out\r\n"
       ]
      }
     ],
     "prompt_number": 5
    },
    {
     "cell_type": "code",
     "collapsed": false,
     "input": [
      "import pandas as pd"
     ],
     "language": "python",
     "metadata": {},
     "outputs": [],
     "prompt_number": 6
    },
    {
     "cell_type": "code",
     "collapsed": false,
     "input": [
      "pd.read_csv('test.out', delim_whitespace=True)"
     ],
     "language": "python",
     "metadata": {},
     "outputs": [
      {
       "html": [
        "<div style=\"max-height:1000px;max-width:1500px;overflow:auto;\">\n",
        "<table border=\"1\" class=\"dataframe\">\n",
        "  <thead>\n",
        "    <tr style=\"text-align: right;\">\n",
        "      <th></th>\n",
        "      <th>a</th>\n",
        "      <th>b</th>\n",
        "    </tr>\n",
        "  </thead>\n",
        "  <tbody>\n",
        "    <tr>\n",
        "      <th>0</th>\n",
        "      <td> 0.72618</td>\n",
        "      <td> 0.84020</td>\n",
        "    </tr>\n",
        "    <tr>\n",
        "      <th>1</th>\n",
        "      <td> 0.89529</td>\n",
        "      <td> 0.21279</td>\n",
        "    </tr>\n",
        "  </tbody>\n",
        "</table>\n",
        "</div>"
       ],
       "metadata": {},
       "output_type": "pyout",
       "prompt_number": 8,
       "text": [
        "         a        b\n",
        "0  0.72618  0.84020\n",
        "1  0.89529  0.21279"
       ]
      }
     ],
     "prompt_number": 8
    },
    {
     "cell_type": "code",
     "collapsed": false,
     "input": [],
     "language": "python",
     "metadata": {},
     "outputs": []
    }
   ],
   "metadata": {}
  }
 ]
}