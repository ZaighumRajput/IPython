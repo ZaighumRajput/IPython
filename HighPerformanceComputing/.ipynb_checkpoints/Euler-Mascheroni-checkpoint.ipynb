{
 "metadata": {
  "name": ""
 },
 "nbformat": 3,
 "nbformat_minor": 0,
 "worksheets": [
  {
   "cells": [
    {
     "cell_type": "heading",
     "level": 1,
     "metadata": {},
     "source": [
      "$$\\gamma = lim_{n->\\infty} ( \\sum_{k=1}^n 1/k - ln(n) )$$"
     ]
    },
    {
     "cell_type": "code",
     "collapsed": false,
     "input": [
      "k = 1\n",
      "for i in xrange(1,1000):\n",
      "    "
     ],
     "language": "python",
     "metadata": {},
     "outputs": []
    }
   ],
   "metadata": {}
  }
 ]
}